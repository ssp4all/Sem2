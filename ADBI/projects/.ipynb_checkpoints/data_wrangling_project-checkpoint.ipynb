{
 "cells": [
  {
   "cell_type": "code",
   "execution_count": 2,
   "metadata": {},
   "outputs": [],
   "source": [
    "#Author: @Suraj Sunil Pawar\n",
    "# Unity-ID: spawar2\n",
    "#Student-ID: 200315997"
   ]
  },
  {
   "cell_type": "markdown",
   "metadata": {
    "hideCode": true,
    "hidePrompt": true
   },
   "source": [
    "## Project: Data Wrangling using Pandas and Regex\n",
    "\n",
    "In this project you are asked __to implement__ and __perform a unit testing__ for a series of Python functions (Q1-Q13) that are typically required during the ***data wrangling*** phase of the end-to-end data science pipeline. A subset of unit testing functions is provided for you. You are expected to write unit testing for all the remaining functions.\n",
    "\n",
    "__Data Wrangling consists of the following main steps:__\n",
    "\n",
    "* Data Acquisition\n",
    "* Data Cleansing\n",
    "* Data Understanding: Basics\n",
    "* Data Manipulation\n",
    "  \n",
    "  \n",
    "__1. Data Acquisition Objectives__\n",
    "\n",
    "* Question 1: How to import multiples files for storage and access? (store filenames in array)\n",
    "* Question 2: How to import data in different formats? (read_excel, read_csv)\n",
    "* Question 2: How are they read into by pandas? (DataFrame)\n",
    "* Question 4: How to have a peek at the data after import? (head/tail)\n",
    "\n",
    "__2. Data Cleansing Objectives__\n",
    "\n",
    "* Question 5: Check attributes of each file\n",
    "* Question 5: Identify data types\n",
    "* Question 5: Apply coercion if applicable\n",
    "* Question 5: Check for NA/missing data\n",
    "* Question 6: Remove/replace corrupt data\n",
    "* Question 6: Identify duplicate data\n",
    "* Question 6: Check for corrupt/incorrect data  \n",
    "\n",
    "* Check for data consistency (e.g. GPA cannot be less than 0)\n",
    "* Identifying and removing outliers\n",
    "\n",
    "__3. Data Understanding Objectives__\n",
    "\n",
    "* Question 7: Basic Summary Statistics\n",
    "* Question 9: Dimensionality\n",
    "\n",
    "__4. Data Manipulation Objectives__\n",
    "\n",
    "* Question 11: Merge/Concatenate DataFrame\n",
    "* Question 11: Mapping to create a new attribute\n",
    "* Question 11: Incorporate the use of multiple functions\n",
    "* Question 12: Filter to subset the data\n",
    "* Question 13: Discretize data \n",
    "  \n",
    "  \n",
    "__Regular Expressions:__ *Regular expressions are used in conjunction with other preprocessing steps for matching/parsing patterns.*\n",
    "\n",
    "* Questions 2/5/6: Filter to subset the dataUse regular expressions to find/match specific content\n",
    "* Question 6: Filter to subset the dataString manipulation via. substring and replace methods"
   ]
  },
  {
   "cell_type": "markdown",
   "metadata": {
    "hideCode": true,
    "hidePrompt": true
   },
   "source": [
    "## Install Required Packages\n",
    "\n",
    "If you do not have Anaconda installed, then you may need to install the following packages using the following commands (Note: If you have Anaconda installed, then you already have Pandas and `regex`):\n",
    "\n",
    "> pip3 install pandas  \n",
    "  \n",
    "> pip3 install regex\n",
    "\n",
    "## INSTRUCTIONS: In all the functions, remove the `pass` statement and write your code."
   ]
  },
  {
   "cell_type": "code",
   "execution_count": 1,
   "metadata": {
    "hideCode": false,
    "hidePrompt": true
   },
   "outputs": [],
   "source": [
    "import pandas as pd\n",
    "import re\n",
    "import glob\n",
    "import copy\n",
    "\n",
    "%matplotlib inline\n",
    "import matplotlib.pyplot as plt"
   ]
  },
  {
   "cell_type": "markdown",
   "metadata": {
    "hideCode": false,
    "hidePrompt": true
   },
   "source": [
    "### __Question 1: Write a function to import all excel file names into a list.__\n",
    "\n",
    "_Hint: Use the glob module._"
   ]
  },
  {
   "cell_type": "code",
   "execution_count": 64,
   "metadata": {
    "hideCode": false,
    "hidePrompt": true
   },
   "outputs": [
    {
     "name": "stdout",
     "output_type": "stream",
     "text": [
      "['data_raw\\\\Python-QUIZ Coercion (6 min.)-grades.xlsx', 'data_raw\\\\Python-QUIZ Conditionals (6 min.)-grades.xlsx', 'data_raw\\\\Python-QUIZ Dictionaries (10 min.)-grades.xlsx', 'data_raw\\\\Python-QUIZ Exceptions (10 min.)-grades.xlsx', 'data_raw\\\\Python-QUIZ Functions (18 min.)-grades.xlsx', 'data_raw\\\\Python-QUIZ Iterations (6 min.)-grades.xlsx', 'data_raw\\\\Python-QUIZ Lists (10 min.)-grades.xlsx', 'data_raw\\\\Python-QUIZ Sets (7 min)-grades.xlsx', 'data_raw\\\\Python-QUIZ Strings (5 min.)-grades.xlsx', 'data_raw\\\\Python-QUIZ Taxonomy of Python Data Structures (12 min.)-grades.xlsx', 'data_raw\\\\Python-QUIZ Tuples (10 min.)-grades.xlsx']\n"
     ]
    }
   ],
   "source": [
    "def Q1_function():\n",
    "    \"\"\"\n",
    "    :type : None\n",
    "    :rtype: List[String]\n",
    "    \"\"\"\n",
    "    # TYPE YOUR CODE HERE\n",
    "    return [file for file in glob.glob(\"data_raw/*.xlsx\")]\n",
    "\n",
    "# Call the function and print the result. This result is used in subsequent questions.\n",
    "filenames = Q1_function()\n",
    "print(filenames)"
   ]
  },
  {
   "cell_type": "markdown",
   "metadata": {
    "hideCode": false,
    "hidePrompt": true
   },
   "source": [
    "### __Question 2: Write a function to return the name of the excel file based on a given string. *(The string is defined for you)*__  \n",
    "*Hints: Use the following.*\n",
    "* Regex 're.search' function.\n",
    "* Pandas function 'read_excel'"
   ]
  },
  {
   "cell_type": "code",
   "execution_count": 65,
   "metadata": {
    "hideCode": false,
    "hidePrompt": true
   },
   "outputs": [
    {
     "name": "stdout",
     "output_type": "stream",
     "text": [
      "data_raw\\Python-QUIZ Dictionaries (10 min.)-grades.xlsx\n"
     ]
    }
   ],
   "source": [
    "def Q2_function(files, s):\n",
    "    \"\"\"\n",
    "    :type : List[String], String\n",
    "    :rtype: String\n",
    "    \"\"\"\n",
    "    # TYPE YOUR CODE HERE\n",
    "#     print(s)\n",
    "    pattern = re.compile(s)\n",
    "#     print(pattern)\n",
    "    for file in files:\n",
    "        match_object = pattern.search(file)\n",
    "        if match_object:\n",
    "            break\n",
    "    return match_object.string\n",
    "        \n",
    "\n",
    "# Call the function and print the result. Use this to check the correctness of your code and for debugging.\n",
    "file = Q2_function(filenames, s = \"Dictionaries\")\n",
    "print(file)"
   ]
  },
  {
   "cell_type": "markdown",
   "metadata": {
    "hideCode": false,
    "hidePrompt": true
   },
   "source": [
    "### __Question 3: Write a function to load the \"Functions\" excel file into a Pandas DataFrame.__  \n",
    "*Hint: Remember you have executed functions in Questions 1 and 2. Try using them here. You can save some coding time!*  \n",
    "* Use the result from Question 1.\n",
    "* Use the function written in Question 2.\n",
    "* Use the Pandas function 'read_excel' to import an excel file."
   ]
  },
  {
   "cell_type": "code",
   "execution_count": 67,
   "metadata": {
    "hideCode": false,
    "hidePrompt": true
   },
   "outputs": [
    {
     "data": {
      "text/html": [
       "<div>\n",
       "<style scoped>\n",
       "    .dataframe tbody tr th:only-of-type {\n",
       "        vertical-align: middle;\n",
       "    }\n",
       "\n",
       "    .dataframe tbody tr th {\n",
       "        vertical-align: top;\n",
       "    }\n",
       "\n",
       "    .dataframe thead th {\n",
       "        text-align: right;\n",
       "    }\n",
       "</style>\n",
       "<table border=\"1\" class=\"dataframe\">\n",
       "  <thead>\n",
       "    <tr style=\"text-align: right;\">\n",
       "      <th></th>\n",
       "      <th>Unnamed: 0</th>\n",
       "      <th>State</th>\n",
       "      <th>Started on</th>\n",
       "      <th>Completed</th>\n",
       "      <th>Time taken</th>\n",
       "      <th>Grade/45.00</th>\n",
       "      <th>Q. 1 /5.00</th>\n",
       "      <th>Q. 2 /10.00</th>\n",
       "      <th>Q. 3 /6.00</th>\n",
       "      <th>Q. 4 /6.00</th>\n",
       "      <th>Q. 5 /12.00</th>\n",
       "      <th>Q. 6 /6.00</th>\n",
       "      <th>id</th>\n",
       "    </tr>\n",
       "  </thead>\n",
       "  <tbody>\n",
       "    <tr>\n",
       "      <td>0</td>\n",
       "      <td>0</td>\n",
       "      <td>Finished</td>\n",
       "      <td>February 5 2018  3:19 PM</td>\n",
       "      <td>February 5 2018  3:34 PM</td>\n",
       "      <td>14 mins 16 secs</td>\n",
       "      <td>32</td>\n",
       "      <td>5</td>\n",
       "      <td>6</td>\n",
       "      <td>6</td>\n",
       "      <td>3.00</td>\n",
       "      <td>12.00</td>\n",
       "      <td>0.00</td>\n",
       "      <td>0</td>\n",
       "    </tr>\n",
       "    <tr>\n",
       "      <td>1</td>\n",
       "      <td>1</td>\n",
       "      <td>Finished</td>\n",
       "      <td>February 4 2018  4:01 PM</td>\n",
       "      <td>February 4 2018  4:19 PM</td>\n",
       "      <td>17 mins 54 secs</td>\n",
       "      <td>31</td>\n",
       "      <td>5</td>\n",
       "      <td>8</td>\n",
       "      <td>6</td>\n",
       "      <td>-</td>\n",
       "      <td>12.00</td>\n",
       "      <td>0.00</td>\n",
       "      <td>1</td>\n",
       "    </tr>\n",
       "    <tr>\n",
       "      <td>2</td>\n",
       "      <td>12</td>\n",
       "      <td>Finished</td>\n",
       "      <td>February 6 2018  3:57 PM</td>\n",
       "      <td>February 6 2018  4:12 PM</td>\n",
       "      <td>15 mins 44 secs</td>\n",
       "      <td>20</td>\n",
       "      <td>3</td>\n",
       "      <td>4</td>\n",
       "      <td>3</td>\n",
       "      <td>-</td>\n",
       "      <td>10.00</td>\n",
       "      <td>0.00</td>\n",
       "      <td>12</td>\n",
       "    </tr>\n",
       "  </tbody>\n",
       "</table>\n",
       "</div>"
      ],
      "text/plain": [
       "   Unnamed: 0     State                Started on                 Completed  \\\n",
       "0           0  Finished  February 5 2018  3:19 PM  February 5 2018  3:34 PM   \n",
       "1           1  Finished  February 4 2018  4:01 PM  February 4 2018  4:19 PM   \n",
       "2          12  Finished  February 6 2018  3:57 PM  February 6 2018  4:12 PM   \n",
       "\n",
       "        Time taken  Grade/45.00  Q. 1 /5.00  Q. 2 /10.00  Q. 3 /6.00  \\\n",
       "0  14 mins 16 secs           32           5            6           6   \n",
       "1  17 mins 54 secs           31           5            8           6   \n",
       "2  15 mins 44 secs           20           3            4           3   \n",
       "\n",
       "  Q. 4 /6.00 Q. 5 /12.00 Q. 6 /6.00  id  \n",
       "0       3.00       12.00       0.00   0  \n",
       "1          -       12.00       0.00   1  \n",
       "2          -       10.00       0.00  12  "
      ]
     },
     "execution_count": 67,
     "metadata": {},
     "output_type": "execute_result"
    }
   ],
   "source": [
    "def Q3_function(files, s):\n",
    "    \"\"\"\n",
    "    :type : List[String], String\n",
    "    :rtype: Pandas DataFrame\n",
    "    \"\"\"\n",
    "    # TYPE YOUR CODE HERE\n",
    "    return pd.read_excel(Q2_function(files, s))\n",
    "\n",
    "# Call the function and print the result. This result is used in subsequent questions.\n",
    "functions_df = Q3_function(filenames, s = \"Functions\")\n",
    "# print(functions_df)\n",
    "functions_df.head(3)"
   ]
  },
  {
   "cell_type": "markdown",
   "metadata": {
    "hideCode": false,
    "hidePrompt": true
   },
   "source": [
    "### __Question 4: Using the output obtained in Question 3 as input for the current question, write a function to do the following.__  \n",
    "* Find all the names of the columns and return as a list.\n",
    "* Find the subset of the DataFrame (use `df.loc`) and return the new DataFrame. Include the following columns:   \n",
    "_\"id\", \"Time taken\", \"Grade/45.00\", \"Q. 1 /5.00\", \"Q. 2 /10.00\", \"Q. 3 /6.00\", \"Q. 4 /6.00\", \"Q. 5 /12.00\", \"Q. 6 /6.00\"_\n",
    "* Return the top 10 rows (use `df.head function`).\n",
    "\n",
    "Learn about returning multiple values in Python."
   ]
  },
  {
   "cell_type": "code",
   "execution_count": 84,
   "metadata": {
    "hideCode": false,
    "hidePrompt": true
   },
   "outputs": [
    {
     "name": "stdout",
     "output_type": "stream",
     "text": [
      "Column Names\n",
      "['State', 'Started on', 'Completed', 'Time taken', 'Grade/45.00', 'Q. 1 /5.00', 'Q. 2 /10.00', 'Q. 3 /6.00', 'Q. 4 /6.00', 'Q. 5 /12.00', 'Q. 6 /6.00', 'id']\n",
      "\n",
      "Subsetted Data\n",
      "    id       Time taken  Grade/45.00  Q. 1 /5.00  Q. 2 /10.00  Q. 3 /6.00  \\\n",
      "0    0  14 mins 16 secs           32           5            6           6   \n",
      "1    1  17 mins 54 secs           31           5            8           6   \n",
      "2   12  15 mins 44 secs           20           3            4           3   \n",
      "3    2          18 mins           30           5            6           6   \n",
      "4    3  17 mins 31 secs           26           5            6           6   \n",
      "5    4  17 mins 59 secs           25           5            6           6   \n",
      "6    5          18 mins           24           5            6           6   \n",
      "7    6          18 mins           23           5            6           0   \n",
      "8    7    18 mins 1 sec           23           4            4           6   \n",
      "9    8  16 mins 44 secs           22           4            4           6   \n",
      "10   9    18 mins 1 sec           22           5            8           6   \n",
      "11  10          18 mins           21           5           10           6   \n",
      "12   4  17 mins 59 secs           25           5            6           6   \n",
      "13   5          18 mins           24           5            6           6   \n",
      "14  11  12 mins 59 secs           21           4            4           3   \n",
      "15  12  15 mins 44 secs           20           3            4           3   \n",
      "16  13    18 mins 1 sec           17           4            4           6   \n",
      "17  14          18 mins           17           5            4           3   \n",
      "18  15    18 mins 1 sec           16           3            6           3   \n",
      "19   6          18 mins           23           5            6           0   \n",
      "20  16  48 mins 39 secs           15           4            2           3   \n",
      "21  17    18 mins 1 sec           13           3            4           6   \n",
      "22  18  14 mins 31 secs           13           3            4           6   \n",
      "23   8  16 mins 44 secs           22           4            4           6   \n",
      "\n",
      "   Q. 4 /6.00 Q. 5 /12.00 Q. 6 /6.00  \n",
      "0        3.00       12.00       0.00  \n",
      "1           -       12.00       0.00  \n",
      "2           -       10.00       0.00  \n",
      "3        3.00       10.00          -  \n",
      "4        3.00        6.00       0.00  \n",
      "5        6.00        2.00       0.00  \n",
      "6        3.00        4.00          -  \n",
      "7        0.00        6.00       6.00  \n",
      "8        3.00        6.00       0.00  \n",
      "9        0.00        8.00       0.00  \n",
      "10       3.00           -          -  \n",
      "11          -           -          -  \n",
      "12       6.00        2.00       0.00  \n",
      "13       3.00        4.00          -  \n",
      "14       0.00        4.00       6.00  \n",
      "15          -       10.00       0.00  \n",
      "16       3.00        0.00          -  \n",
      "17       3.00        2.00       0.00  \n",
      "18       0.00        4.00          -  \n",
      "19       0.00        6.00       6.00  \n",
      "20       0.00        6.00       0.00  \n",
      "21          -           -          -  \n",
      "22       0.00        0.00       0.00  \n",
      "23       0.00        8.00       0.00  \n",
      "\n",
      "Top 10 Rows\n",
      "   id       Time taken  Grade/45.00  Q. 1 /5.00  Q. 2 /10.00  Q. 3 /6.00  \\\n",
      "0   0  14 mins 16 secs           32           5            6           6   \n",
      "1   1  17 mins 54 secs           31           5            8           6   \n",
      "2  12  15 mins 44 secs           20           3            4           3   \n",
      "3   2          18 mins           30           5            6           6   \n",
      "4   3  17 mins 31 secs           26           5            6           6   \n",
      "5   4  17 mins 59 secs           25           5            6           6   \n",
      "6   5          18 mins           24           5            6           6   \n",
      "7   6          18 mins           23           5            6           0   \n",
      "8   7    18 mins 1 sec           23           4            4           6   \n",
      "9   8  16 mins 44 secs           22           4            4           6   \n",
      "\n",
      "  Q. 4 /6.00 Q. 5 /12.00 Q. 6 /6.00  \n",
      "0       3.00       12.00       0.00  \n",
      "1          -       12.00       0.00  \n",
      "2          -       10.00       0.00  \n",
      "3       3.00       10.00          -  \n",
      "4       3.00        6.00       0.00  \n",
      "5       6.00        2.00       0.00  \n",
      "6       3.00        4.00          -  \n",
      "7       0.00        6.00       6.00  \n",
      "8       3.00        6.00       0.00  \n",
      "9       0.00        8.00       0.00  \n"
     ]
    }
   ],
   "source": [
    "def Q4_function(dataframe):\n",
    "    \"\"\"\n",
    "    :type : DataFrame\n",
    "    :rtype: [String], DataFrame, DataFrame\n",
    "    \"\"\"\n",
    "    # TYPE YOUR CODE HERE\n",
    "    column_names = dataframe.columns.values.tolist()\n",
    "    required_columns = [\"id\", \"Time taken\", \"Grade/45.00\", \"Q. 1 /5.00\", \"Q. 2 /10.00\", \"Q. 3 /6.00\", \"Q. 4 /6.00\", \"Q. 5 /12.00\", \"Q. 6 /6.00\"]\n",
    "    \n",
    "#     print(column_names)\n",
    "    df_subset = dataframe.loc[:,required_columns]\n",
    "#     print(df_subset)\n",
    "    df_top_rows = df_subset.head(10)\n",
    "    \n",
    "    return column_names[1:], df_subset, df_top_rows\n",
    "\n",
    "# Call the function and print the results. These results are used in subsequent questions.\n",
    "names, df_subset, top_10 = Q4_function(functions_df)\n",
    "\n",
    "print(\"Column Names\")\n",
    "print(names)\n",
    "print()\n",
    "print(\"Subsetted Data\")\n",
    "print(df_subset)\n",
    "print()\n",
    "print(\"Top 10 Rows\")\n",
    "print(top_10)"
   ]
  },
  {
   "cell_type": "markdown",
   "metadata": {
    "hideCode": false,
    "hidePrompt": true
   },
   "source": [
    "### Question 5: Using the subsetted DataFrame from the previous question, complete the following tasks.\n",
    "\n",
    "* Identify the data type of every column. Return as a list. *(read about dtypes)*\n",
    "* Strip all white spaces from the columns. \n",
    "    + try using list comprehension along with the 'sub' function in 're' module\n",
    "* Check if 'Time taken' column has NA or empty values:\n",
    "    + use `df.isnull().any()`. \n",
    "    + If YES, replace with 0: use `df.fillna()`.\n",
    "* Using `regex` (`re.search`), convert the 'Time taken' column into seconds (int) and store in a new column called 'time' (e.g., convert __2 mins 10 secs__ into __130__. Note that to get 130, you need to do some math. Use coersion to convert str to int.\n",
    "* Return the DataFrame with 'Time taken' column dropped."
   ]
  },
  {
   "cell_type": "code",
   "execution_count": 35,
   "metadata": {
    "hideCode": false,
    "hidePrompt": true
   },
   "outputs": [
    {
     "name": "stdout",
     "output_type": "stream",
     "text": [
      "Index(['id', 'Timetaken', 'Grade/45.00', 'Q.1/5.00', 'Q.2/10.00', 'Q.3/6.00',\n",
      "       'Q.4/6.00', 'Q.5/12.00', 'Q.6/6.00', 'time'],\n",
      "      dtype='object')\n",
      "Column Datatypes\n",
      "[dtype('int64'), dtype('O'), dtype('int64'), dtype('int64'), dtype('int64'), dtype('int64'), dtype('O'), dtype('O'), dtype('O'), dtype('int64')]\n",
      "\n",
      "New Update DataFrame\n",
      "    id  Grade/45.00  Q.1/5.00  Q.2/10.00  Q.3/6.00 Q.4/6.00 Q.5/12.00  \\\n",
      "0    0           32         5          6         6     3.00     12.00   \n",
      "1    1           31         5          8         6        -     12.00   \n",
      "2   12           20         3          4         3        -     10.00   \n",
      "3    2           30         5          6         6     3.00     10.00   \n",
      "4    3           26         5          6         6     3.00      6.00   \n",
      "5    4           25         5          6         6     6.00      2.00   \n",
      "6    5           24         5          6         6     3.00      4.00   \n",
      "7    6           23         5          6         0     0.00      6.00   \n",
      "8    7           23         4          4         6     3.00      6.00   \n",
      "9    8           22         4          4         6     0.00      8.00   \n",
      "10   9           22         5          8         6     3.00         -   \n",
      "11  10           21         5         10         6        -         -   \n",
      "12   4           25         5          6         6     6.00      2.00   \n",
      "13   5           24         5          6         6     3.00      4.00   \n",
      "14  11           21         4          4         3     0.00      4.00   \n",
      "15  12           20         3          4         3        -     10.00   \n",
      "16  13           17         4          4         6     3.00      0.00   \n",
      "17  14           17         5          4         3     3.00      2.00   \n",
      "18  15           16         3          6         3     0.00      4.00   \n",
      "19   6           23         5          6         0     0.00      6.00   \n",
      "20  16           15         4          2         3     0.00      6.00   \n",
      "21  17           13         3          4         6        -         -   \n",
      "22  18           13         3          4         6     0.00      0.00   \n",
      "23   8           22         4          4         6     0.00      8.00   \n",
      "\n",
      "   Q.6/6.00  time  \n",
      "0      0.00   856  \n",
      "1      0.00  1074  \n",
      "2      0.00   944  \n",
      "3         -  1080  \n",
      "4      0.00  1051  \n",
      "5      0.00  1079  \n",
      "6         -  1080  \n",
      "7      6.00  1080  \n",
      "8      0.00  1081  \n",
      "9      0.00  1004  \n",
      "10        -  1081  \n",
      "11        -  1080  \n",
      "12     0.00  1079  \n",
      "13        -  1080  \n",
      "14     6.00   779  \n",
      "15     0.00   944  \n",
      "16        -  1081  \n",
      "17     0.00  1080  \n",
      "18        -  1081  \n",
      "19     6.00  1080  \n",
      "20     0.00  2919  \n",
      "21        -  1081  \n",
      "22     0.00   871  \n",
      "23     0.00  1004  \n"
     ]
    }
   ],
   "source": [
    "def Q5_function(df):\n",
    "    \n",
    "    \"\"\"\n",
    "    :type : DataFrame\n",
    "    :rtype: [String], DataFrame\n",
    "    \"\"\"\n",
    "    column_types = df.dtypes.tolist()\n",
    "    df.columns = [re.sub('\\s', '', x) for x in df.columns]\n",
    "#     print(df.columns)\n",
    "#     print(df['Timetaken'])\n",
    "    if df.loc[:,'Timetaken'].isnull().any():\n",
    "#         print('yeah')\n",
    "        df.loc[:,'Timetaken'].fillna(0)\n",
    "#     print(df['Timetaken'])\n",
    "    \n",
    "    time = df.loc[:, 'Timetaken']\n",
    "    time = time.apply(lambda q:re.search('(\\d*)\\s(?:mins*)\\s*(\\d*)(?:secs*)*',q))    \n",
    "#     print(list(time))\n",
    "    time = time.apply(lambda q: q.groups() if q != None else q)   \n",
    "    \n",
    "    time = time.apply(lambda q: (q[0],q[1]) if q[0] else (0,q[1]))    \n",
    "    time = time.apply(lambda q: (q[0],q[1]) if q[1] else (q[0],0))    \n",
    "    time = time.apply(lambda q: int(q[0]) * 60 + int(q[1]))\n",
    "    df['time'] = pd.Series(time, index=df.index)\n",
    "    df = df.drop ('Timetaken', axis = 1)\n",
    "    \n",
    "    return column_types, df\n",
    "\n",
    "#     return column_types, Q5_df\n",
    "\n",
    "# Call the function and print the results. These results are used in subsequent questions.\n",
    "column_types, Q5_df = Q5_function(df_subset)\n",
    "print(\"Column Datatypes\")\n",
    "print(column_types)\n",
    "print()\n",
    "print(\"New Update DataFrame\")\n",
    "print(Q5_df)"
   ]
  },
  {
   "cell_type": "markdown",
   "metadata": {
    "hideCode": false,
    "hidePrompt": true
   },
   "source": [
    "### Question 6: Using the returned DataFrame from the previous question, complete the following tasks.\n",
    "\n",
    "* Some columns might need to be converted to integer for the subsequent tasks. Identify which columns and convert them to int/float.\n",
    "* Are there any duplicate rows? Remove them from the DataFrame.\n",
    "* Data collected might be corrupt. Check whether data is missing or corrupt. Data is missing if there is a '-'. If missing data exists, replace with the mean of other values.\n",
    "* With the above point in mind, find the mean values of all columns except 'id'. Append these as a row to your dataframe and return\n",
    "\n",
    "*Hint: Note that the maximum marks for each column is different. Make sure you parse the information from the column name.*"
   ]
  },
  {
   "cell_type": "code",
   "execution_count": 89,
   "metadata": {
    "hideCode": false,
    "hidePrompt": true,
    "scrolled": true
   },
   "outputs": [
    {
     "name": "stdout",
     "output_type": "stream",
     "text": [
      "    id  Grade/45.00  Q.1/5.00  Q.2/10.00  Q.3/6.00  Q.4/6.00  Q.5/12.00  \\\n",
      "0    0    32.000000  5.000000   6.000000  6.000000       3.0      12.00   \n",
      "1    1    31.000000  5.000000   8.000000  6.000000       2.0      12.00   \n",
      "2   12    20.000000  3.000000   4.000000  3.000000       2.0      10.00   \n",
      "3    2    30.000000  5.000000   6.000000  6.000000       3.0      10.00   \n",
      "4    3    26.000000  5.000000   6.000000  6.000000       3.0       6.00   \n",
      "5    4    25.000000  5.000000   6.000000  6.000000       6.0       2.00   \n",
      "6    5    24.000000  5.000000   6.000000  6.000000       3.0       4.00   \n",
      "7    6    23.000000  5.000000   6.000000  0.000000       0.0       6.00   \n",
      "8    7    23.000000  4.000000   4.000000  6.000000       3.0       6.00   \n",
      "9    8    22.000000  4.000000   4.000000  6.000000       0.0       8.00   \n",
      "10   9    22.000000  5.000000   8.000000  6.000000       3.0       5.75   \n",
      "11  10    21.000000  5.000000  10.000000  6.000000       2.0       5.75   \n",
      "12  11    21.000000  4.000000   4.000000  3.000000       0.0       4.00   \n",
      "13  13    17.000000  4.000000   4.000000  6.000000       3.0       0.00   \n",
      "14  14    17.000000  5.000000   4.000000  3.000000       3.0       2.00   \n",
      "15  15    16.000000  3.000000   6.000000  3.000000       0.0       4.00   \n",
      "16  16    15.000000  4.000000   2.000000  3.000000       0.0       6.00   \n",
      "17  17    13.000000  3.000000   4.000000  6.000000       2.0       5.75   \n",
      "18  18    13.000000  3.000000   4.000000  6.000000       0.0       0.00   \n",
      "19  19    21.631579  4.315789   5.368421  4.894737       2.0       5.75   \n",
      "\n",
      "    Q.6/6.00         time  \n",
      "0        0.0   856.000000  \n",
      "1        0.0  1074.000000  \n",
      "2        0.0   944.000000  \n",
      "3        1.0  1080.000000  \n",
      "4        0.0  1051.000000  \n",
      "5        0.0  1079.000000  \n",
      "6        1.0  1080.000000  \n",
      "7        6.0  1080.000000  \n",
      "8        0.0  1081.000000  \n",
      "9        0.0  1004.000000  \n",
      "10       1.0  1081.000000  \n",
      "11       1.0  1080.000000  \n",
      "12       6.0   779.000000  \n",
      "13       1.0  1081.000000  \n",
      "14       0.0  1080.000000  \n",
      "15       1.0  1081.000000  \n",
      "16       0.0  2919.000000  \n",
      "17       1.0  1081.000000  \n",
      "18       0.0   871.000000  \n",
      "19       1.0  1125.368421  \n"
     ]
    }
   ],
   "source": [
    "def Q6_function(df):\n",
    "    \n",
    "    \"\"\"\n",
    "    :type : DataFrame\n",
    "    :rtype: DataFrame\n",
    "    \"\"\"\n",
    "    # TYPE YOUR CODE HERE\n",
    "    df[[\"Grade/45.00\", \"Q.4/6.00\", \"Q.5/12.00\", \"Q.6/6.00\"]] = df[[\"Grade/45.00\", \"Q.4/6.00\", \"Q.5/12.00\", \"Q.6/6.00\"]].apply(pd.to_numeric, errors='coerce')\n",
    "    \n",
    "    df = df.drop_duplicates()\n",
    "    \n",
    "    df[[\"Grade/45.00\", \"Q.4/6.00\", \"Q.5/12.00\", \"Q.6/6.00\"]] = df[[\"Grade/45.00\", \"Q.4/6.00\", \"Q.5/12.00\", \"Q.6/6.00\"]].fillna(df.mean())\n",
    "    \n",
    "    mean_series = df[[\"Grade/45.00\", \"Q.1/5.00\", \"Q.2/10.00\",\"Q.3/6.00\", \"Q.4/6.00\", \"Q.5/12.00\", \"Q.6/6.00\", \"time\"]].mean()\n",
    "    \n",
    "    mean_id = max(df.loc[:,\"id\"]) + 1\n",
    "#     print(mean_id)\n",
    "    mean_series['id'] = mean_id\n",
    "    \n",
    "    df = df.append(mean_series ,ignore_index=True)\n",
    "    \n",
    "    df[['id']] = df[['id']].astype(int)\n",
    "    \n",
    "    return df\n",
    "\n",
    "\n",
    "\n",
    "# Call the function and print the results.\n",
    "Q6_df = Q6_function(Q5_df)\n",
    "print(Q6_df)"
   ]
  },
  {
   "cell_type": "markdown",
   "metadata": {
    "hideCode": false,
    "hidePrompt": true
   },
   "source": [
    "### Question 7: Use previously created functions to load the 'Exceptions' dataset as a dataframe\n",
    "\n",
    "* Calculate the mean of the total grade obtained by the students.\n",
    "* Calculate the standard deviation of the total grade obtained by the students.\n",
    "* Calculate Q1,Q2 and Q3 (quantiles) for the total grade.\n",
    "* Find the maximum and minimum values for the total grade\n",
    "\n",
    "* Return all values rounded to 2 decimal places\n",
    "\n",
    "*Hint: Use the df.describe function*"
   ]
  },
  {
   "cell_type": "code",
   "execution_count": 40,
   "metadata": {
    "hideCode": false,
    "hidePrompt": true
   },
   "outputs": [
    {
     "name": "stdout",
     "output_type": "stream",
     "text": [
      "Mean: 14.83\n",
      "Std. Dev.: 2.19\n",
      "First Quantile 13.46\n",
      "Second Quantile 14.66\n",
      "Third Quantile 16.62\n",
      "Max: 18.5\n",
      "Min: 10.83\n"
     ]
    }
   ],
   "source": [
    "def Q7_function(file):\n",
    "    \"\"\"\n",
    "    :type : String\n",
    "    :rtype: Float\n",
    "    \"\"\"\n",
    "    # TYPE YOUR CODE HERE\n",
    "    filenames = Q1_function()\n",
    "    \n",
    "    df = Q3_function(filenames, file)\n",
    "    \n",
    "    statistics_summary = df.describe().round(2)\n",
    "    \n",
    "    mean_, std_, q1, q2, q3, max_, min_ = statistics_summary.loc[['mean', 'std','25%','50%', '75%', 'max', 'min'],'Grade/21.00']\n",
    "    \n",
    "    return mean_, std_, q1, q2, q3, max_, min_\n",
    "    \n",
    "#     pass\n",
    "\n",
    "# Call the function and print the results.\n",
    "mean_,std_,q1,q2,q3,max_,min_ = Q7_function(file=\"Exceptions\")\n",
    "print(\"Mean:\", mean_)\n",
    "print(\"Std. Dev.:\", std_)\n",
    "print(\"First Quantile\", q1)\n",
    "print(\"Second Quantile\", q2)\n",
    "print(\"Third Quantile\", q3)\n",
    "print(\"Max:\", max_)\n",
    "print(\"Min:\", min_)"
   ]
  },
  {
   "cell_type": "markdown",
   "metadata": {
    "hideCode": false,
    "hidePrompt": true
   },
   "source": [
    "### Question 8: Create a boxplot of the grade distribution in the 'Exceptions' dataset.\n",
    "\n",
    "* Compare the plot lines to the values calculated in the previous question.\n",
    "* Use df.plot.box function."
   ]
  },
  {
   "cell_type": "code",
   "execution_count": 41,
   "metadata": {
    "hideCode": false,
    "hidePrompt": true,
    "scrolled": true
   },
   "outputs": [
    {
     "data": {
      "text/plain": [
       "<matplotlib.axes._subplots.AxesSubplot at 0x2c1b2b3688>"
      ]
     },
     "execution_count": 41,
     "metadata": {},
     "output_type": "execute_result"
    },
    {
     "data": {
      "image/png": "[encoded data removed]",
      "text/plain": [
       "<Figure size 432x288 with 1 Axes>"
      ]
     },
     "metadata": {
      "needs_background": "light"
     },
     "output_type": "display_data"
    }
   ],
   "source": [
    "def Q8_function(file):\n",
    "    \n",
    "    \"\"\"\n",
    "    :type : String\n",
    "    :rtype: Plot\n",
    "    \"\"\"\n",
    "    \n",
    "    df = Q3_function(filenames, file)\n",
    "    Q8_plot = df[['Grade/21.00']].plot.box(return_type='axes')\n",
    "    \n",
    "    return Q8_plot\n",
    "\n",
    "\n",
    "# Call the function. Plot will display.\n",
    "Q8_function(file='Exceptions')"
   ]
  },
  {
   "cell_type": "markdown",
   "metadata": {
    "hideCode": false,
    "hidePrompt": true
   },
   "source": [
    "### Question 9: Return the number of rows and columns present in the 'Strings' dataset\n",
    "\n",
    "* Use the `df.shape` attribute."
   ]
  },
  {
   "cell_type": "code",
   "execution_count": 42,
   "metadata": {
    "hideCode": false,
    "hidePrompt": true
   },
   "outputs": [
    {
     "name": "stdout",
     "output_type": "stream",
     "text": [
      "Rows: 17\n",
      "Columns: 8\n"
     ]
    }
   ],
   "source": [
    "def Q9_function(file):\n",
    "    \n",
    "    \"\"\"\n",
    "    :type : String\n",
    "    :rtype: list\n",
    "    \"\"\" \n",
    "    # TYPE YOUR CODE HERE\n",
    "    df = Q3_function(filenames, file)    \n",
    "    rows = df.shape[0]\n",
    "    columns = df.shape[1]\n",
    "    \n",
    "    return rows, columns\n",
    "#     pass\n",
    "\n",
    "\n",
    "# Call the function and print the results\n",
    "rows, columns = Q9_function (file='Strings')\n",
    "print(\"Rows:\",rows)\n",
    "print(\"Columns:\",columns)"
   ]
  },
  {
   "cell_type": "markdown",
   "metadata": {
    "hideCode": false,
    "hidePrompt": true
   },
   "source": [
    "### Question 10: Use the output from Question 5. Group the students based on their score in 'Q. 5 /12.00' column\n",
    "\n",
    "* Which students scored 0 \n",
    "* How many students achieved the maximum possible score\n",
    "* Consider NA/missing values as 0\n",
    "\n",
    "*Hint : Use groupby function.*\n"
   ]
  },
  {
   "cell_type": "code",
   "execution_count": 43,
   "metadata": {
    "hideCode": false,
    "hidePrompt": true
   },
   "outputs": [
    {
     "name": "stdout",
     "output_type": "stream",
     "text": [
      "Students scoring zero : [16, 22, 10, 11, 21]\n",
      "Number of students with maximum score : 2\n"
     ]
    }
   ],
   "source": [
    "def Q10_function(df):\n",
    "    \n",
    "    \"\"\"\n",
    "    :type : DataFrame\n",
    "    :rtype: list, int\n",
    "    \"\"\" \n",
    "    # TYPE YOUR CODE HERE\n",
    "    zero = df.groupby(['Q.5/12.00']).get_group(0).index.tolist()\n",
    "    maximum = df.groupby(['Q.5/12.00']).get_group(max(df.loc[:,'Q.5/12.00'])).count()['id']\n",
    "    zero.extend(df[df.loc[:,'Q.5/12.00'].isnull()].index.tolist())\n",
    "    \n",
    "    return zero, maximum\n",
    "#     pass\n",
    "\n",
    "\n",
    "# Call the function and print the results\n",
    "zero, maximum = Q10_function(Q5_df)\n",
    "print(\"Students scoring zero :\",zero)\n",
    "print(\"Number of students with maximum score :\",maximum)"
   ]
  },
  {
   "cell_type": "markdown",
   "metadata": {
    "hideCode": false,
    "hidePrompt": true
   },
   "source": [
    "### Question 11: Find out who ('id') has scored the maximum combined score in the 'Tuples' and 'Taxonomy' quiz.\n",
    "\n",
    "* Use the `pd.merge()` function.\n",
    "* Call the function you wrote for Question 5 to convert time and remove spaces in columns (will be used in later questions).\n",
    "* Create a new column 'Total_score' which is the sum of the scores of the two quizzes."
   ]
  },
  {
   "cell_type": "code",
   "execution_count": 44,
   "metadata": {
    "hideCode": false,
    "hidePrompt": true
   },
   "outputs": [
    {
     "name": "stdout",
     "output_type": "stream",
     "text": [
      "Index(['Unnamed:0', 'State', 'Startedon', 'Completed', 'Timetaken',\n",
      "       'Grade/20.00', 'Q.1/10.00', 'Q.2/10.00', 'id'],\n",
      "      dtype='object')\n",
      "Index(['Unnamed:0', 'State', 'Startedon', 'Completed', 'Timetaken',\n",
      "       'Grade/21.00', 'Q.1/5.00', 'Q.2/10.00', 'Q.3/6.00', 'id'],\n",
      "      dtype='object')\n",
      "Max scorer : 10\n"
     ]
    }
   ],
   "source": [
    "def Q11_function():\n",
    "    \n",
    "    \"\"\"\n",
    "    :type : None\n",
    "    :rtype: Dataframe, int\n",
    "    \"\"\" \n",
    "    # TYPE YOUR CODE HERE\n",
    "    df_tuples = Q3_function(filenames, \"Tuples\")\n",
    "    col_type_tuples, df_tuples = Q5_function(df_tuples)\n",
    "    \n",
    "    df_taxonomy = Q3_function(filenames, \"Taxonomy\")\n",
    "    col_type_taxonomy, df_taxonomy = Q5_function(df_taxonomy)\n",
    "    \n",
    "    df = pd.merge (df_tuples, df_taxonomy, how = 'inner', on = 'id')\n",
    "    \n",
    "    df['Total_score'] = df[\"Grade/20.00\"] + df[\"Grade/21.00\"]\n",
    "    \n",
    "    max_scorer = df.loc[df['Total_score'].idxmax()]['id']\n",
    "    \n",
    "    return df, max_scorer\n",
    "        \n",
    "#     pass\n",
    "\n",
    "\n",
    "# Call the function and print the results. The DataFrame will be used in subsequent questions\n",
    "Q11_df,max_scorer = Q11_function()\n",
    "print(\"Max scorer :\",max_scorer)"
   ]
  },
  {
   "cell_type": "markdown",
   "metadata": {
    "hideCode": false,
    "hidePrompt": true
   },
   "source": [
    "### Question 12: Use the DataFrame generated in Question 11 and return the list of ids whose total time for both quizzes is less than than 20 minutes.\n",
    "\n",
    "* Sort the list before returning.\n",
    "* Can you code it in one line?"
   ]
  },
  {
   "cell_type": "code",
   "execution_count": 45,
   "metadata": {
    "hideCode": false,
    "hidePrompt": true
   },
   "outputs": [
    {
     "name": "stdout",
     "output_type": "stream",
     "text": [
      "ID of students : [3, 4, 7, 8, 12, 18]\n"
     ]
    }
   ],
   "source": [
    "def Q12_function(df):\n",
    "    \n",
    "    \"\"\"\n",
    "    :type : DataFrame\n",
    "    :rtype: list(int)\n",
    "    \"\"\" \n",
    "    # TYPE YOUR CODE HERE\n",
    "    df['total_time'] = df['time_x'] + df['time_y']\n",
    "    ids = df['id'].where((df.total_time < 1200)).dropna().astype(int).tolist()    \n",
    "    ids.sort()\n",
    "    df = df.drop(['total_time'], axis=1, inplace=True)\n",
    "    return ids\n",
    "\n",
    "#     pass\n",
    "\n",
    "\n",
    "# Call the function and print the results.\n",
    "ids = Q12_function(Q11_df)\n",
    "print(\"ID of students :\",ids)"
   ]
  },
  {
   "cell_type": "markdown",
   "metadata": {
    "hideCode": false,
    "hidePrompt": true
   },
   "source": [
    "### Question 13: Discretize the column 'Grade/45.00' for the DataFrame generated in Question 6 and create a new column. Find the number of people (id) per bin. Return a DataFrame with only the bins and count per bin.\n",
    "\n",
    "*Hints:* \n",
    "* _Use 'cut' and 'groupby'._\n",
    "* _You won't need to use 'drop' to drop columns. Use groupby and check the result._\n",
    "* _Use 5 bins_\n",
    "* _Don't consider 'Overall Average' row._"
   ]
  },
  {
   "cell_type": "code",
   "execution_count": 46,
   "metadata": {
    "hideCode": false,
    "hidePrompt": true
   },
   "outputs": [
    {
     "name": "stdout",
     "output_type": "stream",
     "text": [
      "bins\n",
      "(12.981, 16.8]           [15, 16, 17, 18]\n",
      "(16.8, 20.6]                 [12, 13, 14]\n",
      "(20.6, 24.4]      [5, 6, 7, 8, 9, 10, 11]\n",
      "(24.4, 28.2]                       [3, 4]\n",
      "(28.2, 32.0]                    [0, 1, 2]\n",
      "Name: id, dtype: object\n"
     ]
    }
   ],
   "source": [
    "def Q13_function(df):\n",
    "    \n",
    "    \"\"\"\n",
    "    :type : DataFrame\n",
    "    :rtype: DataFrame\n",
    "    \"\"\"    \n",
    "    # TYPE YOUR CODE HERE\n",
    "    df = df.drop(19)\n",
    "    df['bins'] = pd.cut(df['Grade/45.00'], 5)\n",
    "    bins = df.groupby(['bins'])['id'].apply(list)\n",
    "    bins.sort_values\n",
    "    \n",
    "    return bins\n",
    "#     pass\n",
    "\n",
    "\n",
    "# Call the function and print the results.\n",
    "Q13_df = Q13_function(Q6_df)\n",
    "print(Q13_df)"
   ]
  },
  {
   "cell_type": "markdown",
   "metadata": {
    "hideCode": false,
    "hidePrompt": true
   },
   "source": [
    "### INSTRUCTIONS: Complete unit testing for the remaining functions to check correctness of your code."
   ]
  },
  {
   "cell_type": "code",
   "execution_count": 86,
   "metadata": {
    "hideCode": false,
    "hidePrompt": true
   },
   "outputs": [
    {
     "name": "stderr",
     "output_type": "stream",
     "text": [
      "test_Q01_function (__main__.TestNotebook) ... ok\n",
      "test_Q02_function (__main__.TestNotebook) ... ok\n",
      "test_Q03_function (__main__.TestNotebook) ... c:\\users\\suraj\\appdata\\local\\programs\\python\\python37\\lib\\site-packages\\xlrd\\xlsx.py:266: PendingDeprecationWarning: This method will be removed in future versions.  Use 'tree.iter()' or 'list(tree.iter())' instead.\n",
      "  for elem in self.tree.iter() if Element_has_iter else self.tree.getiterator():\n",
      "c:\\users\\suraj\\appdata\\local\\programs\\python\\python37\\lib\\site-packages\\xlrd\\xlsx.py:312: PendingDeprecationWarning: This method will be removed in future versions.  Use 'tree.iter()' or 'list(tree.iter())' instead.\n",
      "  for elem in self.tree.iter() if Element_has_iter else self.tree.getiterator():\n",
      "ok\n",
      "test_Q04_function (__main__.TestNotebook) ... ok\n",
      "test_Q05_function (__main__.TestNotebook) ... ok\n",
      "test_Q06_function (__main__.TestNotebook) ... FAIL\n",
      "test_Q07_function (__main__.TestNotebook) ... "
     ]
    },
    {
     "name": "stdout",
     "output_type": "stream",
     "text": [
      "Index(['id', 'Timetaken', 'Grade/45.00', 'Q.1/5.00', 'Q.2/10.00', 'Q.3/6.00',\n",
      "       'Q.4/6.00', 'Q.5/12.00', 'Q.6/6.00'],\n",
      "      dtype='object')\n"
     ]
    },
    {
     "name": "stderr",
     "output_type": "stream",
     "text": [
      "ok\n",
      "test_Q09_function (__main__.TestNotebook) ... FAIL\n",
      "test_Q10_function (__main__.TestNotebook) ... FAIL\n",
      "test_Q11_function (__main__.TestNotebook) ... ok\n",
      "test_Q12_function (__main__.TestNotebook) ... ok\n",
      "test_Q13_function (__main__.TestNotebook) ... "
     ]
    },
    {
     "name": "stdout",
     "output_type": "stream",
     "text": [
      "Index(['Unnamed:0', 'State', 'Startedon', 'Completed', 'Timetaken',\n",
      "       'Grade/20.00', 'Q.1/10.00', 'Q.2/10.00', 'id'],\n",
      "      dtype='object')\n",
      "Index(['Unnamed:0', 'State', 'Startedon', 'Completed', 'Timetaken',\n",
      "       'Grade/21.00', 'Q.1/5.00', 'Q.2/10.00', 'Q.3/6.00', 'id'],\n",
      "      dtype='object')\n"
     ]
    },
    {
     "name": "stderr",
     "output_type": "stream",
     "text": [
      "ok\n",
      "\n",
      "======================================================================\n",
      "FAIL: test_Q06_function (__main__.TestNotebook)\n",
      "----------------------------------------------------------------------\n",
      "Traceback (most recent call last):\n",
      "  File \"<ipython-input-86-8aad1f7dc61b>\", line 61, in test_Q06_function\n",
      "    pd.testing.assert_frame_equal(ans_df2, result)\n",
      "  File \"c:\\users\\suraj\\appdata\\local\\programs\\python\\python37\\lib\\site-packages\\pandas\\util\\testing.py\", line 1402, in assert_frame_equal\n",
      "    obj=\"{obj}.iloc[:, {idx}]\".format(obj=obj, idx=i),\n",
      "  File \"c:\\users\\suraj\\appdata\\local\\programs\\python\\python37\\lib\\site-packages\\pandas\\util\\testing.py\", line 1159, in assert_series_equal\n",
      "    assert_attr_equal(\"dtype\", left, right)\n",
      "  File \"c:\\users\\suraj\\appdata\\local\\programs\\python\\python37\\lib\\site-packages\\pandas\\util\\testing.py\", line 776, in assert_attr_equal\n",
      "    raise_assert_detail(obj, msg, left_attr, right_attr)\n",
      "  File \"c:\\users\\suraj\\appdata\\local\\programs\\python\\python37\\lib\\site-packages\\pandas\\util\\testing.py\", line 932, in raise_assert_detail\n",
      "    raise AssertionError(msg)\n",
      "AssertionError: Attributes are different\n",
      "\n",
      "Attribute \"dtype\" are different\n",
      "[left]:  int64\n",
      "[right]: int32\n",
      "\n",
      "======================================================================\n",
      "FAIL: test_Q09_function (__main__.TestNotebook)\n",
      "----------------------------------------------------------------------\n",
      "Traceback (most recent call last):\n",
      "  File \"<ipython-input-86-8aad1f7dc61b>\", line 76, in test_Q09_function\n",
      "    self.assertEqual(ans2, result2)\n",
      "AssertionError: 7 != 8\n",
      "\n",
      "======================================================================\n",
      "FAIL: test_Q10_function (__main__.TestNotebook)\n",
      "----------------------------------------------------------------------\n",
      "Traceback (most recent call last):\n",
      "  File \"<ipython-input-86-8aad1f7dc61b>\", line 83, in test_Q10_function\n",
      "    self.assertEqual(ans1, result1)\n",
      "AssertionError: Lists differ: [13, 18, 9, 10, 17] != [16, 22, 10, 11, 21]\n",
      "\n",
      "First differing element 0:\n",
      "13\n",
      "16\n",
      "\n",
      "- [13, 18, 9, 10, 17]\n",
      "+ [16, 22, 10, 11, 21]\n",
      "\n",
      "----------------------------------------------------------------------\n",
      "Ran 12 tests in 0.727s\n",
      "\n",
      "FAILED (failures=3)\n"
     ]
    },
    {
     "data": {
      "text/plain": [
       "<unittest.main.TestProgram at 0x2c1ccc4d48>"
      ]
     },
     "execution_count": 86,
     "metadata": {},
     "output_type": "execute_result"
    }
   ],
   "source": [
    "import unittest\n",
    "\n",
    "class TestNotebook(unittest.TestCase):\n",
    "    \n",
    "    def test_Q01_function(self):\n",
    "        ans = ['data_raw\\\\Python-QUIZ Coercion (6 min.)-grades.xlsx', 'data_raw\\\\Python-QUIZ Conditionals (6 min.)-grades.xlsx', 'data_raw\\\\Python-QUIZ Dictionaries (10 min.)-grades.xlsx', 'data_raw\\\\Python-QUIZ Exceptions (10 min.)-grades.xlsx', 'data_raw\\\\Python-QUIZ Functions (18 min.)-grades.xlsx', 'data_raw\\\\Python-QUIZ Iterations (6 min.)-grades.xlsx', 'data_raw\\\\Python-QUIZ Lists (10 min.)-grades.xlsx', 'data_raw\\\\Python-QUIZ Sets (7 min)-grades.xlsx', 'data_raw\\\\Python-QUIZ Strings (5 min.)-grades.xlsx', 'data_raw\\\\Python-QUIZ Taxonomy of Python Data Structures (12 min.)-grades.xlsx', 'data_raw\\\\Python-QUIZ Tuples (10 min.)-grades.xlsx']\n",
    "        result = Q1_function()\n",
    "        \n",
    "        self.assertEqual(ans, result)\n",
    "\n",
    "\n",
    "    def test_Q02_function(self):\n",
    "        \n",
    "        ans='Python-QUIZ Lists (10 min.)-grades.xlsx'\n",
    "        \n",
    "        result=Q2_function(filenames, s = \"Lists\")\n",
    "        \n",
    "        #Handling removal of the path to check only filename\n",
    "        self.assertEqual(ans,result.split(\"/\")[-1].split(\"\\\\\")[-1])\n",
    "    \n",
    "    def test_Q03_function(self):\n",
    "        ans_head_1 = pd.DataFrame([[0, \"Finished\",\"February 5 2018  3:19 PM\", \"February 5 2018  3:34 PM\", \"14 mins 16 secs\", 32, 5, 6, 6, \"3.00\", \"12.00\", \"0.00\", 0]]\n",
    "                  , columns = ['Unnamed: 0', 'State', 'Started on', 'Completed', 'Time taken', 'Grade/45.00',\n",
    "       'Q. 1 /5.00', 'Q. 2 /10.00', 'Q. 3 /6.00', 'Q. 4 /6.00', 'Q. 5 /12.00',\n",
    "       'Q. 6 /6.00', 'id'])\n",
    "        \n",
    "        result = Q3_function(filenames, s = \"Functions\").head(1)        \n",
    "        pd.testing.assert_frame_equal(ans_head_1, result)\n",
    "                        \n",
    "        \n",
    "    def test_Q04_function(self):\n",
    "        \n",
    "        cols_ans=['State', 'Started on', 'Completed', 'Time taken', 'Grade/45.00', 'Q. 1 /5.00', 'Q. 2 /10.00', 'Q. 3 /6.00', 'Q. 4 /6.00', 'Q. 5 /12.00', 'Q. 6 /6.00',  'id']\n",
    "        subset_cols_ans= [\"id\", \"Time taken\", \"Grade/45.00\", \"Q. 1 /5.00\", \"Q. 2 /10.00\", \"Q. 3 /6.00\", \"Q. 4 /6.00\", \"Q. 5 /12.00\", \"Q. 6 /6.00\"]\n",
    "        top_ans=10\n",
    "        \n",
    "        cols_result,subset_result,top_result=Q4_function(functions_df)\n",
    "\n",
    "        self.assertEqual(cols_ans,list(cols_result))\n",
    "        self.assertEqual(subset_cols_ans,list(subset_result.columns))\n",
    "        self.assertEqual(top_ans,len(top_result))\n",
    "        \n",
    "    def test_Q05_function(self):\n",
    "        mock_df = pd.DataFrame([[0,\"14 mins 16 secs\", \"32\", 5, 6, 6, \"3.00\", \"12.00\",\"0.00\"]]\n",
    "                  , columns = [\"id\",\"Time taken\",\"Grade/45.00\",\"Q.1/5.00\",\"Q.2/10.00\",\"Q.3/6.00\",\"Q.4/6.00\",\"Q.5/12.00\",\"Q.6/6.00\"])\n",
    "        \n",
    "        ans_df = pd.DataFrame([[0, \"32\", 5, 6, 6, \"3.00\", \"12.00\",\"0.00\", 856 ]]\n",
    "                  , columns = [\"id\",\"Grade/45.00\",\"Q.1/5.00\",\"Q.2/10.00\",\"Q.3/6.00\",\"Q.4/6.00\",\"Q.5/12.00\",\"Q.6/6.00\",\"time\"])\n",
    "                \n",
    "        result1, result2 = Q5_function(mock_df)                        \n",
    "        pd.testing.assert_frame_equal(ans_df, result2)\n",
    "        \n",
    "        \n",
    "    def test_Q06_function(self):\n",
    "        mock_df2 = pd.DataFrame([[0, \"32\", 5, 6, 6, \"3.00\", \"12.00\",\"0.00\", 856 ],[1, \"31\", 5, 8, 6, '-', \"12.00\", \"0.00\", 1074]]\n",
    "                  , columns = [\"id\",\"Grade/45.00\",\"Q.1/5.00\",\"Q.2/10.00\",\"Q.3/6.00\",\"Q.4/6.00\",\"Q.5/12.00\",\"Q.6/6.00\",\"time\"])        \n",
    "        ans_df2 = pd.DataFrame([[0, 32, 5, 6, 6, 3.00, 12.00,0.00, 856 ], [1, 31, 5, 8, 6,3, 12.00, 0.00, 1074],[2, 31.5, 5.0, 7.0, 6.0, 3.0, 12.0, 0.0, 965.0]]\n",
    "                  , columns = [\"id\",\"Grade/45.00\",\"Q.1/5.00\",\"Q.2/10.00\",\"Q.3/6.00\",\"Q.4/6.00\",\"Q.5/12.00\",\"Q.6/6.00\",\"time\"])\n",
    "        \n",
    "        result = Q6_function(mock_df2)        \n",
    "        pd.testing.assert_frame_equal(ans_df2, result)\n",
    "                \n",
    "    def test_Q07_function(self):\n",
    "        \n",
    "        ans=(14.83,2.19,13.46,14.66,16.62,18.5,10.83) \n",
    "        result=Q7_function(file=\"Exceptions\")\n",
    "        self.assertEqual(ans, result)        \n",
    "    \n",
    "        \n",
    "    def test_Q09_function(self):\n",
    "        ans1 = 17\n",
    "        ans2 =  7\n",
    "        \n",
    "        result1, result2 = Q9_function(file='Strings')\n",
    "        self.assertEqual(ans1, result1)\n",
    "        self.assertEqual(ans2, result2)\n",
    "    \n",
    "    def test_Q10_function(self):\n",
    "        ans1 = [13, 18, 9, 10, 17]\n",
    "        ans2 = 2\n",
    "        \n",
    "        result1, result2 = Q10_function(Q5_df)\n",
    "        self.assertEqual(ans1, result1)\n",
    "        self.assertEqual(ans2, result2)\n",
    "        \n",
    "    def test_Q11_function(self):\n",
    "        ans = 10\n",
    "        df, result = Q11_function()\n",
    "        self.assertEqual(ans, result)\n",
    "        \n",
    "    def test_Q12_function(self):\n",
    "        ans = [3, 4, 7, 8, 12, 18]   \n",
    "        result = Q12_function(Q11_df)\n",
    "        self.assertEqual(ans, result)\n",
    "        \n",
    "    def test_Q13_function(self):\n",
    "        ans = [[15, 16, 17, 18], [12, 13, 14], [5, 6, 7, 8, 9, 10, 11], [3, 4], [0, 1, 2]]\n",
    "        temp = Q13_function(Q6_df)        \n",
    "        result = [temp.iloc[x] for x in range(len(temp))]\n",
    "        \n",
    "        for x in range(len(ans)):\n",
    "            self.assertEqual(sum(result[x]), sum(ans[x]))\n",
    "\n",
    "        \n",
    "unittest.main(argv=[''], verbosity=2, exit=False)\n"
   ]
  }
 ],
 "metadata": {
  "celltoolbar": "Hide code",
  "hide_code_all_hidden": true,
  "kernelspec": {
   "display_name": "Python 3",
   "language": "python",
   "name": "python3"
  },
  "language_info": {
   "codemirror_mode": {
    "name": "ipython",
    "version": 3
   },
   "file_extension": ".py",
   "mimetype": "text/x-python",
   "name": "python",
   "nbconvert_exporter": "python",
   "pygments_lexer": "ipython3",
   "version": "3.7.4"
  }
 },
 "nbformat": 4,
 "nbformat_minor": 2
}
