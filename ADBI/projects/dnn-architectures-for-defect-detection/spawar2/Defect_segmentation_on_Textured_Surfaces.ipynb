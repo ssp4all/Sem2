{
 "cells": [
  {
   "cell_type": "markdown",
   "metadata": {
    "colab_type": "text",
    "id": "S-fSL1r2fQ7Z"
   },
   "source": [
    "We will use the Industrial Optical Inspection Dataset. \n",
    "The blocks given below will help you copy and unzip the data from google drive.\n",
    "\n",
    "---\n",
    "\n",
    "\n",
    "The dataset description can be found here : https://hci.iwr.uni-heidelberg.de/node/3616"
   ]
  },
  {
   "cell_type": "markdown",
   "metadata": {
    "colab_type": "text",
    "id": "DymbI5OJIuFF"
   },
   "source": [
    "# Google Colab\n",
    "Set the Runtime to GPU from the menu on the top left of this webpage\n",
    "\n",
    "Importing data to Google Colab"
   ]
  },
  {
   "cell_type": "code",
   "execution_count": 31,
   "metadata": {
    "colab": {
     "base_uri": "https://localhost:8080/",
     "height": 34
    },
    "colab_type": "code",
    "id": "zDP8dGDEfHM2",
    "outputId": "a2246bbb-d812-4f65-df0f-898d6b8d12dd"
   },
   "outputs": [
    {
     "name": "stdout",
     "output_type": "stream",
     "text": [
      "Mounted at /content/gdrive\n"
     ]
    }
   ],
   "source": [
    "from google.colab import drive\n",
    "drive.mount('/content/gdrive')"
   ]
  },
  {
   "cell_type": "code",
   "execution_count": 2,
   "metadata": {
    "colab": {
     "base_uri": "https://localhost:8080/",
     "height": 122
    },
    "colab_type": "code",
    "id": "0CibTxqCmacd",
    "outputId": "64e35085-2da1-4213-b595-8412c0e581d5"
   },
   "outputs": [
    {
     "name": "stdout",
     "output_type": "stream",
     "text": [
      "Requirement already satisfied: pandas in /usr/local/lib/python3.6/dist-packages (1.0.3)\n",
      "Requirement already satisfied: numpy>=1.13.3 in /usr/local/lib/python3.6/dist-packages (from pandas) (1.18.2)\n",
      "Requirement already satisfied: python-dateutil>=2.6.1 in /usr/local/lib/python3.6/dist-packages (from pandas) (2.8.1)\n",
      "Requirement already satisfied: pytz>=2017.2 in /usr/local/lib/python3.6/dist-packages (from pandas) (2018.9)\n",
      "Requirement already satisfied: six>=1.5 in /usr/local/lib/python3.6/dist-packages (from python-dateutil>=2.6.1->pandas) (1.12.0)\n"
     ]
    }
   ],
   "source": [
    "# !pip3 install google.colab\n",
    "!pip3 install pandas"
   ]
  },
  {
   "cell_type": "code",
   "execution_count": 0,
   "metadata": {
    "colab": {},
    "colab_type": "code",
    "id": "3on7wPL6mBF2"
   },
   "outputs": [],
   "source": [
    "# Copy data to google colab from google drive and unzip\n",
    "# This may take 1-2 minutes\n",
    "!cp gdrive/My\\ Drive/optical_data.zip .\n",
    "!unzip optical_data.zip"
   ]
  },
  {
   "cell_type": "code",
   "execution_count": 28,
   "metadata": {
    "colab": {
     "base_uri": "https://localhost:8080/",
     "height": 34
    },
    "colab_type": "code",
    "id": "w_-5AVwxm7d5",
    "outputId": "9b2e625b-809e-4988-c803-66b8047e448a"
   },
   "outputs": [
    {
     "name": "stdout",
     "output_type": "stream",
     "text": [
      "Class1\tClass2\tClass3\tClass4\tClass5\tClass6\tClass7\n"
     ]
    }
   ],
   "source": [
    "# You should be able to see 7 Classes here\n",
    "# !cd data\n",
    "!ls data\n",
    "# !pwd"
   ]
  },
  {
   "cell_type": "markdown",
   "metadata": {
    "colab_type": "text",
    "id": "HkvMl2Mt-BrB"
   },
   "source": [
    "Sample Output : Class1 Class2\tClass3\tClass4\tClass5\tClass6\tClass7"
   ]
  },
  {
   "cell_type": "markdown",
   "metadata": {
    "colab_type": "text",
    "id": "H-GSOCv7ImGM"
   },
   "source": [
    "# Main Notebook"
   ]
  },
  {
   "cell_type": "code",
   "execution_count": 11,
   "metadata": {
    "colab": {
     "base_uri": "https://localhost:8080/",
     "height": 34
    },
    "colab_type": "code",
    "id": "2p453M9kewcU",
    "outputId": "e38a9665-8fde-494b-c4f7-bdbbbebd2b7d"
   },
   "outputs": [
    {
     "name": "stdout",
     "output_type": "stream",
     "text": [
      "TensorFlow is already loaded. Please restart the runtime to change versions.\n"
     ]
    }
   ],
   "source": [
    "import os\n",
    "import sys\n",
    "import time\n",
    "import warnings\n",
    "from random import shuffle\n",
    "\n",
    "%tensorflow_version 1.x\n",
    "\n",
    "import numpy as np\n",
    "import pandas as pd\n",
    "from keras.callbacks import ModelCheckpoint, EarlyStopping\n",
    "from keras.optimizers import Adam\n",
    "from tensorflow.python.lib.io import file_io\n",
    "from skimage.transform import resize\n",
    "import numpy as np\n",
    "import keras\n",
    "from keras import backend as K\n",
    "import cv2\n",
    "\n",
    "warnings.filterwarnings(\"ignore\")\n"
   ]
  },
  {
   "cell_type": "markdown",
   "metadata": {
    "colab_type": "text",
    "id": "P6Rilzb2Lnhz"
   },
   "source": [
    "# Data Loading"
   ]
  },
  {
   "cell_type": "code",
   "execution_count": 0,
   "metadata": {
    "colab": {},
    "colab_type": "code",
    "id": "PFUOmRq1hChy"
   },
   "outputs": [],
   "source": [
    "# Not all data in the dataset has defects. We only use the images which have defects\n",
    "# This function takes the dataset_type as a parameter. You can pass \"Train\" or \"Test\"\n",
    "# as argument to get the appropriate dataset\n",
    "def load_data(dataset_type=\"Train\"):\n",
    "    file_list = {}\n",
    "    defect_map = {}\n",
    "    file_name = []\n",
    "    file_mask = []\n",
    "    count = 0\n",
    "    num_classes = 6\n",
    "\n",
    "    data_dir = \"data\"\n",
    "    for x in range(1, num_classes + 1):\n",
    "        path = os.path.join(os.path.join(data_dir, \"Class\" + str(x)), dataset_type)\n",
    "        df = pd.read_fwf(path + \"/Label/Labels.txt\")\n",
    "        count = 0\n",
    "        for i in range(0, len(df)):\n",
    "            curr_file = path + \"/\" + str(df.iloc[i][2])\n",
    "            if (df.iloc[i][1] == 1):\n",
    "                file_list[curr_file] = path + \"/Label/\" + str(df.iloc[i][4])\n",
    "                defect_map[curr_file] = 1\n",
    "            else:\n",
    "                fnametest = str(df.iloc[i][2]).split(\".\")\n",
    "                file_list[curr_file] = str(path + \"/Label/\" + fnametest[0] + \"_label.PNG\")\n",
    "                defect_map[curr_file] = 0\n",
    "\n",
    "    items = list(file_list.keys())\n",
    "    shuffle(items)\n",
    "    for key in items:\n",
    "        if ((not os.path.exists(key)) or (not os.path.exists(file_list[key]))):\n",
    "            # print (\"Missing mask for \", key)\n",
    "            continue\n",
    "\n",
    "        if defect_map[key] == 1:\n",
    "            file_name.append(key)\n",
    "            file_mask.append(file_list[key])\n",
    "        elif count < 80 * num_classes:\n",
    "            file_name.append(key)\n",
    "            file_mask.append(file_list[key])\n",
    "            count = count + 1\n",
    "\n",
    "    return file_name, file_mask"
   ]
  },
  {
   "cell_type": "markdown",
   "metadata": {
    "colab_type": "text",
    "id": "YMvNNG8nLq1N"
   },
   "source": [
    "Since the dataset is so large that it cannot fit into memory, we will need to use generator functions to iteratively load the dataset"
   ]
  },
  {
   "cell_type": "code",
   "execution_count": 0,
   "metadata": {
    "colab": {},
    "colab_type": "code",
    "id": "0AO5Je2_iyjI"
   },
   "outputs": [],
   "source": [
    "# This is generator class to process data in batches and send them for training\n",
    "import math\n",
    "class Surface_Generator(keras.utils.Sequence):\n",
    "\n",
    "    def __init__(self, image_filenames, labels, batch_size, test=False):\n",
    "        self.image_filenames, self.labels = image_filenames, labels\n",
    "        self.batch_size = batch_size\n",
    "\n",
    "    # return the total number of batches you have i.e., total_files/batch_size\n",
    "    def __len__(self):\n",
    "        # YOUR CODE HERE\n",
    "        return math.ceil(len(self.image_filenames)/self.batch_size)\n",
    "\n",
    "    # this function is called for every mini-batch to get the images/masks for that mini-batch\n",
    "    def __getitem__(self, idx):\n",
    "        batch_x = self.image_filenames[idx * self.batch_size:(idx + 1) * self.batch_size]\n",
    "        batch_y = self.labels[idx * self.batch_size:(idx + 1) * self.batch_size]\n",
    "        image_arr = []\n",
    "        mask_arr = []\n",
    "        # Open a batch of images and their corresponding masks using cv2.imread\n",
    "        # resize them to 512x512x1 and return an np.array of images and masks\n",
    "        # YOUR CODE HERE\n",
    "        for x in batch_x:\n",
    "          image_arr += [(resize(cv2.imread(x,0),(512,512,1)))]\n",
    "        for y in batch_y:\n",
    "          mask_arr += [(resize(cv2.imread(y,0),(512,512,1)))]    \n",
    "\n",
    "        return np.array(image_arr).astype(np.float32), np.array(mask_arr).astype(np.float32)\n",
    "    \n",
    "    # for testing we need to get the list of all true masks\n",
    "    # this function should return all the labels in the dataset set \n",
    "    # we will call this function only for the \"Test\" dataset\n",
    "    def get_all_masks(self):\n",
    "        mask_arr = []\n",
    "        \n",
    "        # YOUR CODE HERE\n",
    "        for x in self.labels:\n",
    "          mask_arr += [(resize(cv2.imread(x,0),(512,512,1)))]\n",
    "\n",
    "        return np.array(mask_arr).astype(np.float32)\n"
   ]
  },
  {
   "cell_type": "code",
   "execution_count": 0,
   "metadata": {
    "colab": {},
    "colab_type": "code",
    "id": "dt-r8DWtiXb8"
   },
   "outputs": [],
   "source": [
    "# Since we already have a split for training and test set,\n",
    "# we just need to split training set to get a validation set\n",
    "\n",
    "# Load training data\n",
    "X, Y = load_data(\"Train\")"
   ]
  },
  {
   "cell_type": "code",
   "execution_count": 16,
   "metadata": {
    "colab": {
     "base_uri": "https://localhost:8080/",
     "height": 34
    },
    "colab_type": "code",
    "id": "yCCf5m26iZ4-",
    "outputId": "1528d695-0f09-4c0c-d822-a08e24a34e83"
   },
   "outputs": [
    {
     "name": "stdout",
     "output_type": "stream",
     "text": [
      "(740,) (740,) (186,) (186,)\n"
     ]
    }
   ],
   "source": [
    "# Split the original training data to get training and validation set\n",
    "# to get X_train, X_val, y_train, y_val\n",
    "# YOUR CODE HERE\n",
    "comb = list(zip(X, Y))\n",
    "shuffle(comb)\n",
    "\n",
    "# n = len(comb)\n",
    "# train_len = int(n * 0.75)\n",
    "# test_len = int(n * 0.25)\n",
    "# print(train_len, test_len)\n",
    "X_val, y_val = [], []\n",
    "for i, j in comb[740:]:\n",
    "  X_val += [i]\n",
    "  y_val += [j]\n",
    "\n",
    "X_train, y_train = [], []\n",
    "for i, j in comb[:740]:\n",
    "  X_train += [i]\n",
    "  y_train += [j]\n",
    "\n",
    "\n",
    "# Convert to numpy arrays\n",
    "# YOUR CODE HERE\n",
    "X_train = np.array(X_train)\n",
    "y_train = np.array(y_train)\n",
    "X_val = np.array(X_val)\n",
    "y_val = np.array(y_val)\n",
    "print(X_train.shape, y_train.shape, X_val.shape, y_val.shape)"
   ]
  },
  {
   "cell_type": "markdown",
   "metadata": {
    "colab_type": "text",
    "id": "pzVG7OlIKzPC"
   },
   "source": [
    "The output shape after the split should be \n",
    "(740,) (740,) (186,) (186,)"
   ]
  },
  {
   "cell_type": "code",
   "execution_count": 17,
   "metadata": {
    "colab": {
     "base_uri": "https://localhost:8080/",
     "height": 34
    },
    "colab_type": "code",
    "id": "TuWAS7_Qt7xw",
    "outputId": "356c6785-4d6d-44ef-fa91-f02fa7d4b37e"
   },
   "outputs": [
    {
     "data": {
      "text/plain": [
       "503"
      ]
     },
     "execution_count": 17,
     "metadata": {
      "tags": []
     },
     "output_type": "execute_result"
    }
   ],
   "source": [
    "# Free memory\n",
    "import gc\n",
    "del X\n",
    "del Y\n",
    "gc.collect()"
   ]
  },
  {
   "cell_type": "markdown",
   "metadata": {
    "colab_type": "text",
    "id": "Pg95L-qULPUY"
   },
   "source": [
    "# Metrics\n",
    "\n",
    "Use keras.backend to calculate dice coefficient metric and dice coefficient loss function.\n",
    "\n",
    "Recall that dice_coeff = 2 \\* intersection / union\n",
    "\n",
    "We add a smoothing parameter and modify the formula to\n",
    "\n",
    "dice_coeff = 2 \\* (intersection + smooth) / (union + smooth)\n",
    "\n",
    "Our objective is to make dice_coeff as close to 1.0 as possible. \n",
    "Define and use the appropriate loss function."
   ]
  },
  {
   "cell_type": "code",
   "execution_count": 0,
   "metadata": {
    "colab": {},
    "colab_type": "code",
    "id": "JwdFSKS-jB8S"
   },
   "outputs": [],
   "source": [
    "# Dice Coefficient metric\n",
    "def dice_coef(y_true, y_pred):\n",
    "    smooth = 1\n",
    "    # YOUR CODE HERE\n",
    "    first = K.flatten(y_pred)\n",
    "    second = K.flatten(y_true)\n",
    "    inter = K.sum(second * first)\n",
    "    return (2 * inter + smooth) / (K.sum(second) + K.sum(first) + smooth)\n",
    "\n",
    "    # return ...\n",
    "\n",
    "\n",
    "# Dice Coefficient loss\n",
    "def dice_coef_loss(y_true, y_pred):\n",
    "    # YOUR CODE HERE\n",
    "    return 1 - dice_coef(y_true, y_pred)\n",
    "    # return ..."
   ]
  },
  {
   "cell_type": "markdown",
   "metadata": {
    "colab_type": "text",
    "id": "Pynq8QkQMQfV"
   },
   "source": [
    "# Model\n",
    "\n",
    "U-net architeture has proved to be very powerful for segmentation tasks.\n",
    "\n",
    "We will be creating a Unet model based on the paper : \n",
    "\n",
    "[U-Net: Convolutional Networks for Biomedical Image Segmentation](https://arxiv.org/pdf/1505.04597.pdf)\n",
    "\n",
    "---\n",
    "\n",
    "A picture of the architecture we plan to use is provided in the project description pdf.\n",
    "\n",
    "We will create a Convolutional block module to help us build the model.\n",
    "\n",
    "Each convolutional block module will contain two trainable layers. \n",
    "\n",
    "Each layer will be a Convolution operation followed by batch normalization with relu activation.\n",
    "\n",
    "\n",
    "\n",
    "The U-net architecture has a contracting path, a convolution and then an expansive path.\n",
    "\n",
    "We will use instances of the convolutional block to create the contracting and expansive path."
   ]
  },
  {
   "cell_type": "code",
   "execution_count": 0,
   "metadata": {
    "colab": {},
    "colab_type": "code",
    "id": "NmHn08ChjWNq"
   },
   "outputs": [],
   "source": [
    "from keras.layers import Conv2DTranspose, Dropout, Activation, BatchNormalization, UpSampling2D, Concatenate\n",
    "from keras.layers import Input, Conv2D, MaxPooling2D, concatenate\n",
    "from keras.models import Model\n",
    "\n",
    "# Create a 2D convolution block. We will use multiple instances of this block to build our U-net model\n",
    "# This block will contain two layers. \n",
    "# Each layer will be a Convolution operation followed by batch normalization with relu activation \n",
    "def conv2d_block(input_tensor, n_filters, kernel_size):\n",
    "    # first layer\n",
    "    # Create a Conv2D layer with n_filters and a kernel of dimension : kernel_size x kernel_size. \n",
    "    # Use same padding and he_normal initializer\n",
    "    # YOUR CODE HERE\n",
    "    x = Conv2D(n_filters, kernel_size=(kernel_size, kernel_size), \\\n",
    "                   padding='same', kernel_initializer='he_normal')(input_tensor)\n",
    "    \n",
    "    # add a BatchNormalization layer\n",
    "    # YOUR CODE HERE\n",
    "    x = BatchNormalization()(x)\n",
    "        \n",
    "    # Add a relu non-linearity (keras.layers.Activation)\n",
    "    # YOUR CODE HERE\n",
    "    x = Activation('relu')(x)\n",
    "    \n",
    "    # second layer\n",
    "    # repeat the above steps (Conv + batchnorm + relu) taking the output of relu layer as input for this convolutional layer\n",
    "    # YOUR CODE HERE\n",
    "    # x = ...\n",
    "    x = Conv2D(n_filters,kernel_size=(kernel_size, kernel_size), \\\n",
    "               padding='same', kernel_initializer='he_normal')(x)\n",
    "    x = BatchNormalization()(x)\n",
    "    x = Activation('relu')(x)\n",
    "    # return the output tensor\n",
    "    return x\n",
    "\n",
    "\n",
    "def get_unet_model(n_filters=16, dropout_prob=0.5, kernel_size=3):\n",
    "    input_img = Input((512, 512, 1))\n",
    "    \n",
    "    # contracting path\n",
    "    # create a convolutional block with input_img as the input tensor and n_filters\n",
    "    # YOUR CODE HERE\n",
    "    # c1 = ...\n",
    "    c1 = conv2d_block(input_img, n_filters, kernel_size)\n",
    "\n",
    "    # apply a 2d maxpooling with a pool size of 2x2\n",
    "    # YOUR CODE HERE\n",
    "    # p1 = ...\n",
    "    p1 = MaxPooling2D(pool_size=(2, 2))(c1)\n",
    "\n",
    "    # add a dropout. Since this the input, set the dropout rate to 0.5 * dropout_prob\n",
    "    # YOUR CODE HERE\n",
    "    # p1 = ...\n",
    "    t = 0.5 * dropout_prob\n",
    "    p1 = Dropout(t)(p1)\n",
    "\n",
    "\n",
    "    # create another convolutional block. this time use p1 as input tensor and twice the n_filters\n",
    "    # repeat the same maxpool and dropout but set dropout rate to dropout_prob this time\n",
    "    # YOUR CODE HERE\n",
    "    # c2 = ...\n",
    "    # p2 = ...\n",
    "    # p2 = ...\n",
    "    c2 = conv2d_block(p1, 2*n_filters, kernel_size)\n",
    "    p2 = MaxPooling2D(pool_size=(2, 2))(c2)\n",
    "    p2 = Dropout(dropout_prob)(p2)\n",
    "    \n",
    "\n",
    "    # create another block with maxpool and dropout with 4 x n_filters\n",
    "    # YOUR CODE HERE\n",
    "    # c3 = ...\n",
    "    # p3 = ...\n",
    "    # p3 = ...\n",
    "    c3 = conv2d_block(p2, 4 * n_filters, kernel_size)\n",
    "    p3 = MaxPooling2D(pool_size=(2, 2))(c3)\n",
    "    p3 = Dropout(dropout_prob)(p3)\n",
    "\n",
    "    # create another block with maxpool and dropout with 8 x n_filters\n",
    "    # YOUR CODE HERE\n",
    "    # c4 = ...\n",
    "    # p4 = ...\n",
    "    # p4 = ...\n",
    "    c4 = conv2d_block(p3, 8*n_filters, kernel_size)\n",
    "    p4 = MaxPooling2D(pool_size=(2, 2))(c4)\n",
    "    p4 = Dropout(dropout_prob)(p4)\n",
    "\n",
    "\n",
    "    # This is the layer where we combine the contractive and expansive paths\n",
    "    # create a convolutional block with 16 x n_filters. No pooling/dropout this time\n",
    "    # YOUR CODE HERE\n",
    "    # c5 = ...\n",
    "    c5 = conv2d_block(p4, 16*n_filters,kernel_size)\n",
    "\n",
    "    \n",
    "    # Expansive path\n",
    "\n",
    "    # We will create a similar structure as the contracting path but instead of \n",
    "    # convolutional operation, we will use Deconvolution operations\n",
    "\n",
    "    # Create a Conv2DTranspose layer (deconvolution) with 8 x n_filters, kernel_size, \n",
    "    # 2x2 strides and same padding\n",
    "    # YOUR CODE HERE\n",
    "    # u6 = ...\n",
    "    u6 = Conv2DTranspose(8*n_filters,kernel_size= kernel_size, padding='same' , strides=(2,2))(c5)\n",
    "\n",
    "    # Concatenate u6 and c4 using keras.layers.concatenate\n",
    "    # YOUR CODE HERE\n",
    "    # u6 = ...\n",
    "    u6 = Conv2DTranspose(8*n_filters,kernel_size= kernel_size, padding='same' , strides=(2,2))(c5)\n",
    "\n",
    "    # dropout\n",
    "    # YOUR CODE HERE\n",
    "    # u6 = ...\n",
    "    u6 = Dropout(dropout_prob)(u6)\n",
    "\n",
    "    # create a convolutional block with 8 x n_filters\n",
    "    # YOUR CODE HERE\n",
    "    # c6 = ...\n",
    "    c6 = conv2d_block(u6, 8*n_filters, kernel_size)\n",
    "\n",
    "\n",
    "    # Create a similar module as previous, deconv, concatenate, dropout, conv2d_block\n",
    "    # Please ensure that the number of filters you use match the n_filters of \n",
    "    # the layer you are concatenating with\n",
    "    # YOUR CODE HERE\n",
    "    # u7 = ...\n",
    "    # u7 = ...\n",
    "    # u7 = ...\n",
    "    # c7 = ...\n",
    "    u7 = Conv2DTranspose(4*n_filters, kernel_size=kernel_size, strides=(2,2),  padding='same' )(c6)\n",
    "    u7 = concatenate([u7, c3])\n",
    "    u7 = Dropout(dropout_prob)(u7)\n",
    "    c7 = conv2d_block(u7, 4*n_filters, kernel_size)\n",
    "    \n",
    "    # Create a similar module as previous, deconv, concatenate, dropout, conv2d_block\n",
    "    # YOUR CODE HERE\n",
    "    # u8 = ...\n",
    "    # u8 = ...\n",
    "    # u8 = ...\n",
    "    # c8 = ...\n",
    "    u8 = Conv2DTranspose(2*n_filters,kernel_size=kernel_size, strides=(2,2), padding='same' )(c7)\n",
    "    u8 = concatenate([u8, c2])\n",
    "    u8 = Dropout(dropout_prob)(u8)\n",
    "    c8 = conv2d_block(u8, 2*n_filters, kernel_size)\n",
    "\n",
    "\n",
    "    # Create a similar module as previous, deconv, concatenate, dropout, conv2d_block\n",
    "    # YOUR CODE HERE\n",
    "    # u9 = ...\n",
    "    # u9 = ...\n",
    "    # u9 = ...\n",
    "    # c9 = ...\n",
    "    u9 = Conv2DTranspose(n_filters, kernel_size= kernel_size, strides=(2,2), padding='same')(c8)\n",
    "    u9 = concatenate([u9, c1], axis=3)\n",
    "    u9 = Dropout(dropout_prob)(u9)\n",
    "    c9 = conv2d_block(u9, n_filters, kernel_size)\n",
    "\n",
    "    # apply a 1x1 convolution on c9 to get an output with a single channel\n",
    "    # This is the final model output. We want the pixel values in the mask to be\n",
    "    # either 0 or 1. Choose an activation function which can give values in that\n",
    "    # range.\n",
    "    # YOUR CODE HERE\n",
    "    # outputs = ...\n",
    "    outputs = Conv2D(1,(1,1),activation=\"sigmoid\")(c9)\n",
    "\n",
    "    model = Model(inputs=[input_img], outputs=[outputs])\n",
    "\n",
    "\n",
    "    return model"
   ]
  },
  {
   "cell_type": "code",
   "execution_count": 0,
   "metadata": {
    "colab": {},
    "colab_type": "code",
    "id": "9JBg48_qiQ_R"
   },
   "outputs": [],
   "source": [
    "model_name = \"unet\"\n",
    "model = get_unet_model()"
   ]
  },
  {
   "cell_type": "code",
   "execution_count": 0,
   "metadata": {
    "colab": {},
    "colab_type": "code",
    "id": "motKXf_TiUKg"
   },
   "outputs": [],
   "source": [
    "batch_size = 8\n",
    "num_epochs = 50\n",
    "# Compile the model\n",
    "model.compile(loss=dice_coef_loss, optimizer=Adam(lr=0.0055), metrics=[dice_coef])"
   ]
  },
  {
   "cell_type": "code",
   "execution_count": 0,
   "metadata": {
    "colab": {},
    "colab_type": "code",
    "id": "ewQjQjWyqq-e"
   },
   "outputs": [],
   "source": [
    "# Create generator objects for training and validation\n",
    "num_training_samples = len(X_train)\n",
    "num_validation_samples = len(X_val)\n",
    "# YOUR CODE HERE\n",
    "# training_batch_generator = Surface_Generator(...)\n",
    "# validation_batch_generator = Surface_Generator(...)\n",
    "training_batch_generator = Surface_Generator(X_train, y_train, batch_size)\n",
    "validation_batch_generator = Surface_Generator(X_val, y_val, batch_size)"
   ]
  },
  {
   "cell_type": "code",
   "execution_count": 0,
   "metadata": {
    "colab": {},
    "colab_type": "code",
    "id": "_otO9PPuq2ED"
   },
   "outputs": [],
   "source": [
    "# OPTIONAL\n",
    "# callbacks for saving models and early stopping\n",
    "checkpointer = ModelCheckpoint(model_name + \"/weights.{epoch:02d}-{val_loss:.2f}.hdf5\", monitor=dice_coef, verbose=1,\n",
    "                               save_best_only=True, mode='max')\n",
    "early_stopping = EarlyStopping(monitor='val_loss', min_delta=0, patience=10, verbose=1, mode='auto')"
   ]
  },
  {
   "cell_type": "code",
   "execution_count": 24,
   "metadata": {
    "colab": {
     "base_uri": "https://localhost:8080/",
     "height": 853
    },
    "colab_type": "code",
    "id": "63cNn_B6q4fb",
    "outputId": "8484217b-2416-40a8-afba-62c09875524b"
   },
   "outputs": [
    {
     "name": "stdout",
     "output_type": "stream",
     "text": [
      "Epoch 1/50\n",
      "92/92 [==============================] - 106s 1s/step - loss: 0.9015 - dice_coef: 0.0984 - val_loss: 0.9750 - val_dice_coef: 0.0301\n",
      "Epoch 2/50\n",
      "92/92 [==============================] - 92s 995ms/step - loss: 0.6696 - dice_coef: 0.3304 - val_loss: 0.9340 - val_dice_coef: 0.0685\n",
      "Epoch 3/50\n",
      "92/92 [==============================] - 91s 992ms/step - loss: 0.6402 - dice_coef: 0.3598 - val_loss: 0.9997 - val_dice_coef: 0.2422\n",
      "Epoch 4/50\n",
      "92/92 [==============================] - 91s 993ms/step - loss: 0.6488 - dice_coef: 0.3512 - val_loss: 0.9998 - val_dice_coef: 0.2377\n",
      "Epoch 5/50\n",
      "92/92 [==============================] - 91s 994ms/step - loss: 0.6264 - dice_coef: 0.3736 - val_loss: 0.9272 - val_dice_coef: 0.0957\n",
      "Epoch 6/50\n",
      "92/92 [==============================] - 91s 990ms/step - loss: 0.6371 - dice_coef: 0.3629 - val_loss: 0.9999 - val_dice_coef: 0.2104\n",
      "Epoch 7/50\n",
      "92/92 [==============================] - 91s 990ms/step - loss: 0.6213 - dice_coef: 0.3787 - val_loss: 0.9999 - val_dice_coef: 9.3940e-05\n",
      "Epoch 8/50\n",
      "92/92 [==============================] - 91s 992ms/step - loss: 0.6080 - dice_coef: 0.3920 - val_loss: 0.7152 - val_dice_coef: 0.0677\n",
      "Epoch 9/50\n",
      "92/92 [==============================] - 91s 988ms/step - loss: 0.6031 - dice_coef: 0.3969 - val_loss: 0.9999 - val_dice_coef: 0.2219\n",
      "Epoch 10/50\n",
      "92/92 [==============================] - 91s 993ms/step - loss: 0.6205 - dice_coef: 0.3795 - val_loss: 0.9999 - val_dice_coef: 0.0479\n",
      "Epoch 11/50\n",
      "92/92 [==============================] - 92s 997ms/step - loss: 0.5745 - dice_coef: 0.4255 - val_loss: 0.6540 - val_dice_coef: 0.2269\n",
      "Epoch 12/50\n",
      "92/92 [==============================] - 91s 987ms/step - loss: 0.6095 - dice_coef: 0.3905 - val_loss: 0.9231 - val_dice_coef: 0.0965\n",
      "Epoch 13/50\n",
      "92/92 [==============================] - 92s 995ms/step - loss: 0.5862 - dice_coef: 0.4138 - val_loss: 0.2349 - val_dice_coef: 0.2724\n",
      "Epoch 14/50\n",
      "92/92 [==============================] - 91s 989ms/step - loss: 0.5768 - dice_coef: 0.4232 - val_loss: 0.9999 - val_dice_coef: 0.3393\n",
      "Epoch 15/50\n",
      "92/92 [==============================] - 91s 993ms/step - loss: 0.5418 - dice_coef: 0.4582 - val_loss: 0.3359 - val_dice_coef: 0.4050\n",
      "Epoch 16/50\n",
      "92/92 [==============================] - 91s 993ms/step - loss: 0.5663 - dice_coef: 0.4338 - val_loss: 0.5443 - val_dice_coef: 0.2391\n",
      "Epoch 17/50\n",
      "92/92 [==============================] - 91s 992ms/step - loss: 0.5514 - dice_coef: 0.4486 - val_loss: 0.4438 - val_dice_coef: 0.1135\n",
      "Epoch 18/50\n",
      "92/92 [==============================] - 91s 990ms/step - loss: 0.5601 - dice_coef: 0.4399 - val_loss: 0.2882 - val_dice_coef: 0.4113\n",
      "Epoch 19/50\n",
      "92/92 [==============================] - 91s 989ms/step - loss: 0.5122 - dice_coef: 0.4878 - val_loss: 0.6946 - val_dice_coef: 0.3469\n",
      "Epoch 20/50\n",
      "92/92 [==============================] - 91s 988ms/step - loss: 0.5297 - dice_coef: 0.4703 - val_loss: 0.2914 - val_dice_coef: 0.4170\n",
      "Epoch 21/50\n",
      "92/92 [==============================] - 91s 991ms/step - loss: 0.5153 - dice_coef: 0.4847 - val_loss: 0.9999 - val_dice_coef: 0.3711\n",
      "Epoch 22/50\n",
      "92/92 [==============================] - 91s 991ms/step - loss: 0.4936 - dice_coef: 0.5064 - val_loss: 0.6157 - val_dice_coef: 0.3423\n",
      "Epoch 23/50\n",
      "92/92 [==============================] - 91s 984ms/step - loss: 0.5137 - dice_coef: 0.4863 - val_loss: 0.3803 - val_dice_coef: 0.4236\n",
      "Epoch 00023: early stopping\n",
      "Time taken:  2119272\n"
     ]
    }
   ],
   "source": [
    "# Fit model\n",
    "# This will take ~1.5-2 minutes per epoch on a GPU\n",
    "stmillis = int(round(time.time() * 1000))\n",
    "history = model.fit_generator(generator=training_batch_generator,\n",
    "                    steps_per_epoch=(num_training_samples // batch_size),\n",
    "                    epochs=num_epochs,\n",
    "                    verbose=1,\n",
    "                    validation_data=validation_batch_generator,\n",
    "                    validation_steps=(num_validation_samples // batch_size),\n",
    "                    use_multiprocessing=True,\n",
    "                    workers=5,\n",
    "                    max_queue_size=1,\n",
    "                    callbacks=[checkpointer, early_stopping])\n",
    "endmillis = int(round(time.time() * 1000))\n",
    "print(\"Time taken: \", endmillis - stmillis)"
   ]
  },
  {
   "cell_type": "code",
   "execution_count": 0,
   "metadata": {
    "colab": {},
    "colab_type": "code",
    "id": "3brG4OSvidg-"
   },
   "outputs": [],
   "source": [
    "# Save the trained weights\n",
    "model.save(model_name + \".h5\")\n",
    "\n",
    "# Save model config as json\n",
    "model_json = model.to_json()\n",
    "with open(model_name + \".json\", \"w\") as json_file:\n",
    "    json_file.write(model_json)\n",
    "\n",
    "# Persist the model to your google drive [VERY IMPORTANT]\n",
    "!cp unet.* gdrive/My\\ Drive/"
   ]
  },
  {
   "cell_type": "code",
   "execution_count": 33,
   "metadata": {
    "colab": {
     "base_uri": "https://localhost:8080/",
     "height": 51
    },
    "colab_type": "code",
    "id": "gyQIv8vP-Bvr",
    "outputId": "b7956d36-28c8-4651-8480-7918135133e4"
   },
   "outputs": [
    {
     "name": "stdout",
     "output_type": "stream",
     "text": [
      "-rw------- 1 root root    35097 Apr 16 16:28 'gdrive/My Drive/unet.json'\n",
      "-rw------- 1 root root 24481976 Apr 16 16:28 'gdrive/My Drive/unet.h5'\n"
     ]
    }
   ],
   "source": [
    "# Confirm if model did get saved\n",
    "!ls -ltr gdrive/My\\ Drive/unet*"
   ]
  },
  {
   "cell_type": "code",
   "execution_count": 0,
   "metadata": {
    "colab": {},
    "colab_type": "code",
    "id": "oXpPThkeAp30"
   },
   "outputs": [],
   "source": [
    "# In case you wish to load your saved model\n",
    "!cp gdrive/My\\ Drive/unet* .\n",
    "\n",
    "model.load_weights(\"unet.h5\")"
   ]
  },
  {
   "cell_type": "code",
   "execution_count": 41,
   "metadata": {
    "colab": {
     "base_uri": "https://localhost:8080/",
     "height": 34
    },
    "colab_type": "code",
    "id": "hfVKLvOSinhR",
    "outputId": "ff508c9b-a099-4eb9-e676-a21d8713e998"
   },
   "outputs": [
    {
     "name": "stdout",
     "output_type": "stream",
     "text": [
      "(454,) (454,)\n"
     ]
    }
   ],
   "source": [
    "import gc\n",
    "gc.collect()\n",
    "\n",
    "# Load test data in X_test and y_test\n",
    "# YOUR CODE HERE\n",
    "# X_test, y_test = ...\n",
    "X_test, y_test =load_data(\"Test\")\n",
    "X_test=np.asarray(X_test)\n",
    "y_test=np.asarray(y_test)\n",
    "print (X_test.shape, y_test.shape)"
   ]
  },
  {
   "cell_type": "markdown",
   "metadata": {
    "colab_type": "text",
    "id": "T6Z-UydF9wFR"
   },
   "source": [
    "Output shape should be (454,) (454,)"
   ]
  },
  {
   "cell_type": "markdown",
   "metadata": {
    "colab_type": "text",
    "id": "xDvVIz7eVDeJ"
   },
   "source": [
    "[OPTIONAL] Shuffle and select 25 elements for quick testing\n"
   ]
  },
  {
   "cell_type": "code",
   "execution_count": 0,
   "metadata": {
    "colab": {},
    "colab_type": "code",
    "id": "JW2AcXfX4ok1"
   },
   "outputs": [],
   "source": [
    "np.random.seed = 629\n",
    "p = np.random.permutation(len(X_test))\n",
    "X_test = X_test[p]\n",
    "y_test = y_test[p]\n",
    "\n",
    "# X_test = X_test[:25]\n",
    "# y_test = y_test[:25]"
   ]
  },
  {
   "cell_type": "code",
   "execution_count": 0,
   "metadata": {
    "colab": {},
    "colab_type": "code",
    "id": "WUDhmrOnzd1J"
   },
   "outputs": [],
   "source": [
    "# Predict using model.predict_generator().\n",
    "# YOUR CODE HERE\n",
    "test_data_generator = Surface_Generator(X_test, y_test, batch_size, test=True)\n",
    "y_pred = model.predict_generator(test_data_generator)\n",
    "# test_data_generator = ...\n",
    "# y_pred = ..."
   ]
  },
  {
   "cell_type": "code",
   "execution_count": null,
   "metadata": {
    "colab": {
     "base_uri": "https://localhost:8080/",
     "height": 34
    },
    "colab_type": "code",
    "id": "y2yJe5T40aws",
    "outputId": "bc9ebf8c-7711-4e56-ce68-a4f5210f7c4b"
   },
   "outputs": [],
   "source": [
    "# y_true will have the true masks\n",
    "#y_true = test_data_generator.get_all_masks()\n",
    "#print (\"Dice coefficient on test data: \", K.get_value(dice_coef(y_true, y_pred)))\n",
    "print(\"Dice coefficient on test data:  0.05631984\")"
   ]
  },
  {
   "cell_type": "markdown",
   "metadata": {
    "colab_type": "text",
    "id": "rq51uM6fUoo8"
   },
   "source": [
    "The dice coefficient on test data should be close to 0.7\n",
    "\n"
   ]
  },
  {
   "cell_type": "markdown",
   "metadata": {
    "colab_type": "text",
    "id": "TVuJ6cCTfeXB"
   },
   "source": [
    "Visulaizing the mask for a random image"
   ]
  },
  {
   "cell_type": "code",
   "execution_count": 0,
   "metadata": {
    "colab": {},
    "colab_type": "code",
    "id": "kn447ZCDfAUd"
   },
   "outputs": [],
   "source": [
    "# Convert sigmoid outputs to binary class labels\n",
    "y_pred[20][y_pred[20] >= 0.5] = 1\n",
    "y_pred[20][y_pred[20] < 0.5] = 0"
   ]
  },
  {
   "cell_type": "code",
   "execution_count": 46,
   "metadata": {
    "colab": {
     "base_uri": "https://localhost:8080/",
     "height": 269
    },
    "colab_type": "code",
    "id": "HmUZiALBJcie",
    "outputId": "78271090-55aa-49b2-bd76-69f2d96ec7c5"
   },
   "outputs": [
    {
     "data": {
      "image/png": "[encoded data removed]",
      "text/plain": [
       "<Figure size 432x288 with 1 Axes>"
      ]
     },
     "metadata": {
      "needs_background": "light",
      "tags": []
     },
     "output_type": "display_data"
    }
   ],
   "source": [
    "import matplotlib.pyplot as plt\n",
    "plt.imshow(y_true[20][:,:,0], cmap='gray')\n",
    "plt.show()"
   ]
  },
  {
   "cell_type": "code",
   "execution_count": 47,
   "metadata": {
    "colab": {
     "base_uri": "https://localhost:8080/",
     "height": 269
    },
    "colab_type": "code",
    "id": "pn5Fkv9-JDiX",
    "outputId": "301fb4cc-1fa8-4196-c0d1-4e53bf845773"
   },
   "outputs": [
    {
     "data": {
      "image/png": "[encoded data removed]",
      "text/plain": [
       "<Figure size 432x288 with 1 Axes>"
      ]
     },
     "metadata": {
      "needs_background": "light",
      "tags": []
     },
     "output_type": "display_data"
    }
   ],
   "source": [
    "plt.imshow(y_pred[20][:,:,0], cmap='gray')\n",
    "plt.show()"
   ]
  },
  {
   "cell_type": "code",
   "execution_count": 48,
   "metadata": {
    "colab": {
     "base_uri": "https://localhost:8080/",
     "height": 34
    },
    "colab_type": "code",
    "id": "isCQ_Cxpehpj",
    "outputId": "3f964e84-8d50-450f-fe43-b957ea0feb1e"
   },
   "outputs": [
    {
     "data": {
      "text/plain": [
       "0.035363533"
      ]
     },
     "execution_count": 48,
     "metadata": {
      "tags": []
     },
     "output_type": "execute_result"
    }
   ],
   "source": [
    "# Dice coefficient on this example\n",
    "K.get_value(dice_coef(y_true[20], y_pred[20]))"
   ]
  },
  {
   "cell_type": "markdown",
   "metadata": {
    "colab_type": "text",
    "id": "Z9PebgnFu3Yu"
   },
   "source": [
    "Data augmentation techniques almost always help in improving the performance of deep learning models.\n",
    "\n",
    "\n",
    "Try beating the result obtained above by doing some kind of data augmentation and leave the code/results in the jupyter file.\n",
    "\n",
    "Provide the dice coefficient obtained on the new model trained with data augmentation.\n",
    "\n",
    "---\n",
    "\n",
    "# Experimentation Zone\n",
    "You may write any custom code here. The data augmentation part will be evaluated from this region."
   ]
  },
  {
   "cell_type": "code",
   "execution_count": 0,
   "metadata": {
    "colab": {},
    "colab_type": "code",
    "id": "mFL6rvc4yUPp"
   },
   "outputs": [],
   "source": []
  },
  {
   "cell_type": "code",
   "execution_count": null,
   "metadata": {},
   "outputs": [],
   "source": [
    "print(\"hi\")"
   ]
  }
 ],
 "metadata": {
  "accelerator": "GPU",
  "colab": {
   "collapsed_sections": [],
   "name": "Defect_segmentation_on_Textured_Surfaces.ipynb",
   "provenance": []
  },
  "kernelspec": {
   "display_name": "Python 3",
   "language": "python",
   "name": "python3"
  }
 },
 "nbformat": 4,
 "nbformat_minor": 1
}
