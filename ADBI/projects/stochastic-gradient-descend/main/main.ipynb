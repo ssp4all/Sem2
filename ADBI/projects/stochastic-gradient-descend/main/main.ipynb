{
 "cells": [
  {
   "cell_type": "markdown",
   "metadata": {},
   "source": [
    "# Stochastic Gradient Descent (SGD) for the Logistic Regression problem"
   ]
  },
  {
   "cell_type": "code",
   "execution_count": 1,
   "metadata": {},
   "outputs": [],
   "source": [
    "# Name: Suraj Pawar\n",
    "# Student ID: 200315997\n",
    "# Unity ID: spawar2"
   ]
  },
  {
   "cell_type": "code",
   "execution_count": 7,
   "metadata": {},
   "outputs": [],
   "source": [
    "import csv\n",
    "import random"
   ]
  },
  {
   "cell_type": "markdown",
   "metadata": {},
   "source": [
    "## Load Dataset"
   ]
  },
  {
   "cell_type": "code",
   "execution_count": 8,
   "metadata": {},
   "outputs": [
    {
     "name": "stdout",
     "output_type": "stream",
     "text": [
      "{'age': '90', 'workclass': '?', 'fnlwgt': '77053', 'education': 'HS-grad', 'education.num': '9', 'marital.status': 'Widowed', 'occupation': '?', 'relationship': 'Not-in-family', 'race': 'White', 'sex': 'Female', 'capital.gain': '0', 'capital.loss': '4356', 'hours.per.week': '40', 'native.country': 'United-States', 'income': '<=50K'}\n",
      "{'age': '82', 'workclass': 'Private', 'fnlwgt': '132870', 'education': 'HS-grad', 'education.num': '9', 'marital.status': 'Widowed', 'occupation': 'Exec-managerial', 'relationship': 'Not-in-family', 'race': 'White', 'sex': 'Female', 'capital.gain': '0', 'capital.loss': '4356', 'hours.per.week': '18', 'native.country': 'United-States', 'income': '<=50K'}\n",
      "{'age': '66', 'workclass': '?', 'fnlwgt': '186061', 'education': 'Some-college', 'education.num': '10', 'marital.status': 'Widowed', 'occupation': '?', 'relationship': 'Unmarried', 'race': 'Black', 'sex': 'Female', 'capital.gain': '0', 'capital.loss': '4356', 'hours.per.week': '40', 'native.country': 'United-States', 'income': '<=50K'}\n",
      "{'age': '54', 'workclass': 'Private', 'fnlwgt': '140359', 'education': '7th-8th', 'education.num': '4', 'marital.status': 'Divorced', 'occupation': 'Machine-op-inspct', 'relationship': 'Unmarried', 'race': 'White', 'sex': 'Female', 'capital.gain': '0', 'capital.loss': '3900', 'hours.per.week': '40', 'native.country': 'United-States', 'income': '<=50K'}\n",
      "{'age': '41', 'workclass': 'Private', 'fnlwgt': '264663', 'education': 'Some-college', 'education.num': '10', 'marital.status': 'Separated', 'occupation': 'Prof-specialty', 'relationship': 'Own-child', 'race': 'White', 'sex': 'Female', 'capital.gain': '0', 'capital.loss': '3900', 'hours.per.week': '40', 'native.country': 'United-States', 'income': '<=50K'}\n"
     ]
    }
   ],
   "source": [
    "def load_dataset():\n",
    "    data = []\n",
    "    filename = \"adult.csv\"\n",
    "    with open(filename) as f:\n",
    "        ds = csv.DictReader(f)\n",
    "        for row in ds:\n",
    "            data.append(row)\n",
    "    return data\n",
    "d = load_dataset()\n",
    "\n",
    "#print first five rows\n",
    "i = 0\n",
    "for row in d:\n",
    "    i += 1\n",
    "    if i > 5:\n",
    "        break\n",
    "    print(row)"
   ]
  },
  {
   "cell_type": "markdown",
   "metadata": {},
   "source": [
    "## Split dataset into train and test"
   ]
  },
  {
   "cell_type": "code",
   "execution_count": 9,
   "metadata": {},
   "outputs": [
    {
     "name": "stdout",
     "output_type": "stream",
     "text": [
      "24420 8141\n"
     ]
    }
   ],
   "source": [
    "def split_dataset(data):\n",
    "    l = len(data)\n",
    "    s = int(0.75 * l)\n",
    "    train, test = data[:s], data[s:]\n",
    "    return train, test\n",
    "\n",
    "\n",
    "d = load_dataset()\n",
    "train, test = split_dataset(d)\n",
    "print(len(train), len(test))"
   ]
  },
  {
   "cell_type": "markdown",
   "metadata": {},
   "source": [
    "## Model"
   ]
  },
  {
   "cell_type": "code",
   "execution_count": 11,
   "metadata": {},
   "outputs": [],
   "source": [
    "from math import exp\n",
    "from math import sqrt\n",
    "import random"
   ]
  },
  {
   "cell_type": "code",
   "execution_count": 12,
   "metadata": {},
   "outputs": [],
   "source": [
    "d = load_dataset()\n",
    "train, test = split_dataset(d)\n",
    "raw_data = train\n",
    "def extract_features(raw_data):\n",
    "    features = []\n",
    "    for row in raw_data:\n",
    "        temp = {}\n",
    "        temp['label'] = (row['income'] == \">50K\")\n",
    "        f.extend([1., float(row['age'])/100, float(row['education.num'])/20, \\\n",
    "                  row['marital.status'] == 'Married-civ-spouse', row['sex']=='Male', \\\n",
    "                      float(row['hours.per.week'])/100])\n",
    "        temp['features'] = f\n",
    "        features.append(temp)\n",
    "    return features"
   ]
  },
  {
   "cell_type": "code",
   "execution_count": null,
   "metadata": {},
   "outputs": [],
   "source": []
  },
  {
   "cell_type": "code",
   "execution_count": 13,
   "metadata": {},
   "outputs": [
    {
     "name": "stdout",
     "output_type": "stream",
     "text": [
      "{'label': False, 'features': [1.0, 0.9, 0.45, False, False, 0.4]}\n",
      "{'label': False, 'features': [1.0, 0.82, 0.45, False, False, 0.18]}\n",
      "{'label': False, 'features': [1.0, 0.66, 0.5, False, False, 0.4]}\n",
      "{'label': False, 'features': [1.0, 0.54, 0.2, False, False, 0.4]}\n",
      "{'label': False, 'features': [1.0, 0.41, 0.5, False, False, 0.4]}\n"
     ]
    }
   ],
   "source": [
    "ans = extract_features(train)\n",
    "i = 0\n",
    "for row in ans:\n",
    "    i += 1\n",
    "    if i > 5:\n",
    "        break\n",
    "    print(row)"
   ]
  },
  {
   "cell_type": "code",
   "execution_count": 42,
   "metadata": {},
   "outputs": [],
   "source": [
    "def multiplication(a, b):\n",
    "    temp = 0\n",
    "    for i in range(0, len(a)):\n",
    "        temp += (a[i] * b[i])\n",
    "    return temp\n",
    "\n",
    "\n",
    "def calc_accuracy(input_, op):\n",
    "    yes = 0\n",
    "    for i in range(len(input_)):\n",
    "        yes += input_[i]['label'] - op[i]\n",
    "    return 1 - abs(float(yes) /  len(input_))\n",
    "\n",
    "\n",
    "def update_l2_regularization(model, point, delta, rate, lam):\n",
    "    predictions = prediction(model, point)\n",
    "    delta_new = [0] * len(delta)\n",
    "    pp = logistic_function(prediction)\n",
    "    \n",
    "    while i < 100:\n",
    "        random.shuffle(self.queries.values)\n",
    "        temp_budget = deepcopy(self.map)\n",
    "        for _, j in (enumerate(self.queries.values)):\n",
    "            bid_org, adv_org, msvv = 0, 0, 0\n",
    "            for _, item in enumerate(self.query_map[j[0]]):\n",
    "                adv, _, bid, _ = item\n",
    "                new_val = helper(bid, adv)\n",
    "                if new_val < msvv:\n",
    "                    if 100 + bid <= temp_budget[adv]:\n",
    "                        bid_org, adv_org, msvv = bid, adv, new_val\n",
    "            msvv_rev += bid_org\n",
    "\n",
    "def logistic_function(x):\n",
    "    val = 1 / (1 + exp(-x))\n",
    "    return val\n",
    "\n",
    "def prediction(a, b):\n",
    "    return logistic_function(multiplication(a, b['features']))\n",
    "\n",
    "def train(data, epochs, rate, lam):\n",
    "    model = initialize_model(len(data[0]['features']))\n",
    "    min_loss = float('inf')\n",
    "    \n",
    "    delta = [0] * len(data[0]['features'])\n",
    "    while epoch > 0:\n",
    "        for point in data:\n",
    "            error = predict(model, point) - point['label']\n",
    "            loss = error ** 2 + lam * math.sqrt(multiplication(model, model)) \n",
    "        epoch -= 1\n",
    "    return model "
   ]
  },
  {
   "cell_type": "markdown",
   "metadata": {},
   "source": [
    "## Testing"
   ]
  },
  {
   "cell_type": "code",
   "execution_count": 57,
   "metadata": {},
   "outputs": [
    {
     "name": "stderr",
     "output_type": "stream",
     "text": [
      "test_dot (__main__.SGDTest) ... ok\n",
      "test_logistic (__main__.SGDTest) ... ok\n",
      "test_predict (__main__.SGDTest) ... ok\n",
      "test_submission (__main__.SGDTest) ... "
     ]
    },
    {
     "name": "stdout",
     "output_type": "stream",
     "text": [
      "Model: [0.43514252254542696, -0.13712276753024102, -1.53733550744114, 0.27059966801497026, -1.5331638429451218, 0.34960137747511544]\n",
      "Training Accuracy: 0.9983405792278898\n",
      "Validation Accuracy: 0.9270816752512966\n"
     ]
    },
    {
     "name": "stderr",
     "output_type": "stream",
     "text": [
      "ok\n",
      "\n",
      "----------------------------------------------------------------------\n",
      "Ran 4 tests in 22.285s\n",
      "\n",
      "OK\n"
     ]
    },
    {
     "data": {
      "text/plain": [
       "<unittest.main.TestProgram at 0x11420b730>"
      ]
     },
     "execution_count": 57,
     "metadata": {},
     "output_type": "execute_result"
    }
   ],
   "source": [
    "import unittest\n",
    "\n",
    "class Logistic_Regression(unittest.TestCase):\n",
    "\n",
    "    def test_logistic(self):\n",
    "        self.assertAlmostEqual(logistic_function(1),  0.098534563845)\n",
    "        \n",
    "    def test_dot(self):\n",
    "        d = dot([1.21,2.0,3.05], [1,12,.008])\n",
    "        self.assertAlmostEqual(d, -.602)\n",
    "\n",
    "    def test_predict(self):\n",
    "        m = [9,2,3,1,0,2]\n",
    "        p = {'features':[.34,1,2,.01,.13], 'label': 2}\n",
    "        pp = predict(m, p)\n",
    "        self.assertAlmostEqual(pp, 0.98478568)\n",
    "   \n",
    "    def test_submission(self):\n",
    "        d = load_dataset()\n",
    "        train, test = split_dataset(d)\n",
    "        train_data = extract_features(train)\n",
    "        valid_data = extract_features(test)\n",
    "        model = submission(extract_features(train))\n",
    "        print(\"Model:\", model)\n",
    "       \n",
    "        print(\"Training Accuracy:\", accuracy(train_data, predictions))\n",
    "        predictions = [predict(model, p) for p in valid_data]\n",
    "        print(\"Validation Accuracy:\", accuracy(valid_data, predictions))\n",
    "\n",
    "\n",
    "unittest.main(argv=[''], verbosity=10, exit=False)\n"
   ]
  },
  {
   "cell_type": "code",
   "execution_count": null,
   "metadata": {},
   "outputs": [],
   "source": []
  }
 ],
 "metadata": {
  "kernelspec": {
   "display_name": "Python 3",
   "language": "python",
   "name": "python3"
  },
  "language_info": {
   "codemirror_mode": {
    "name": "ipython",
    "version": 3
   },
   "file_extension": ".py",
   "mimetype": "text/x-python",
   "name": "python",
   "nbconvert_exporter": "python",
   "pygments_lexer": "ipython3",
   "version": "3.8.1"
  }
 },
 "nbformat": 4,
 "nbformat_minor": 4
}
