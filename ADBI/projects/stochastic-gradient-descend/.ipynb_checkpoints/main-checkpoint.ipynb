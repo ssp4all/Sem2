{
 "cells": [
  {
   "cell_type": "markdown",
   "metadata": {},
   "source": [
    "# Stochastic Gradient Descent (SGD) for the Logistic Regression problem"
   ]
  },
  {
   "cell_type": "code",
   "execution_count": 1,
   "metadata": {},
   "outputs": [],
   "source": [
    "import csv\n",
    "import random"
   ]
  },
  {
   "cell_type": "markdown",
   "metadata": {},
   "source": [
    "## Load Dataset"
   ]
  },
  {
   "cell_type": "code",
   "execution_count": 25,
   "metadata": {},
   "outputs": [
    {
     "name": "stdout",
     "output_type": "stream",
     "text": [
      "{'age': '90', 'workclass': '?', 'fnlwgt': '77053', 'education': 'HS-grad', 'education.num': '9', 'marital.status': 'Widowed', 'occupation': '?', 'relationship': 'Not-in-family', 'race': 'White', 'sex': 'Female', 'capital.gain': '0', 'capital.loss': '4356', 'hours.per.week': '40', 'native.country': 'United-States', 'income': '<=50K'}\n",
      "{'age': '82', 'workclass': 'Private', 'fnlwgt': '132870', 'education': 'HS-grad', 'education.num': '9', 'marital.status': 'Widowed', 'occupation': 'Exec-managerial', 'relationship': 'Not-in-family', 'race': 'White', 'sex': 'Female', 'capital.gain': '0', 'capital.loss': '4356', 'hours.per.week': '18', 'native.country': 'United-States', 'income': '<=50K'}\n",
      "{'age': '66', 'workclass': '?', 'fnlwgt': '186061', 'education': 'Some-college', 'education.num': '10', 'marital.status': 'Widowed', 'occupation': '?', 'relationship': 'Unmarried', 'race': 'Black', 'sex': 'Female', 'capital.gain': '0', 'capital.loss': '4356', 'hours.per.week': '40', 'native.country': 'United-States', 'income': '<=50K'}\n",
      "{'age': '54', 'workclass': 'Private', 'fnlwgt': '140359', 'education': '7th-8th', 'education.num': '4', 'marital.status': 'Divorced', 'occupation': 'Machine-op-inspct', 'relationship': 'Unmarried', 'race': 'White', 'sex': 'Female', 'capital.gain': '0', 'capital.loss': '3900', 'hours.per.week': '40', 'native.country': 'United-States', 'income': '<=50K'}\n",
      "{'age': '41', 'workclass': 'Private', 'fnlwgt': '264663', 'education': 'Some-college', 'education.num': '10', 'marital.status': 'Separated', 'occupation': 'Prof-specialty', 'relationship': 'Own-child', 'race': 'White', 'sex': 'Female', 'capital.gain': '0', 'capital.loss': '3900', 'hours.per.week': '40', 'native.country': 'United-States', 'income': '<=50K'}\n"
     ]
    }
   ],
   "source": [
    "def load_dataset():\n",
    "    data = []\n",
    "    filename = \"main/adult.csv\"\n",
    "    with open(filename) as f:\n",
    "        ds = csv.DictReader(f)\n",
    "        for row in ds:\n",
    "            data.append(row)\n",
    "    return data\n",
    "d = load_dataset()\n",
    "i = 0\n",
    "for row in d:\n",
    "    i += 1\n",
    "    if i > 5:\n",
    "        break\n",
    "    print(row)"
   ]
  },
  {
   "cell_type": "markdown",
   "metadata": {},
   "source": [
    "## Split dataset into train and test"
   ]
  },
  {
   "cell_type": "code",
   "execution_count": 18,
   "metadata": {},
   "outputs": [
    {
     "name": "stdout",
     "output_type": "stream",
     "text": [
      "24420 8141\n"
     ]
    }
   ],
   "source": [
    "def split_dataset(data):\n",
    "    l = len(data)\n",
    "    s = int(0.75 * l)\n",
    "    train, test = data[:s], data[s:]\n",
    "    return train, test\n",
    "\n",
    "\n",
    "d = load_dataset()\n",
    "train, test = split_dataset(d)\n",
    "print(len(train), len(test))"
   ]
  },
  {
   "cell_type": "markdown",
   "metadata": {},
   "source": [
    "## Model"
   ]
  },
  {
   "cell_type": "code",
   "execution_count": 26,
   "metadata": {},
   "outputs": [],
   "source": [
    "from math import exp\n",
    "from math import sqrt\n",
    "import random"
   ]
  },
  {
   "cell_type": "code",
   "execution_count": 34,
   "metadata": {},
   "outputs": [],
   "source": [
    "d = load_dataset()\n",
    "train, test = split_dataset(d)\n",
    "raw_data = train\n",
    "def extract_features(raw_data):\n",
    "    features = []\n",
    "    for row in raw_data:\n",
    "        temp = {}\n",
    "        temp['label'] = (row['income'] == \">50K\")\n",
    "        f = []\n",
    "        f += [1.]\n",
    "        f += [float(row['age'])/100]\n",
    "        f += [float(row['education.num'])/20]\n",
    "        f += [row['marital'] == 'Married-civ-spouse']\n",
    "        f += [row['sex']=='Male']\n",
    "        f += [float(row['hr_per_week'])/100]\n",
    "        temp['features'] = f\n",
    "        features.append(temp)\n",
    "    return features"
   ]
  },
  {
   "cell_type": "code",
   "execution_count": 35,
   "metadata": {},
   "outputs": [
    {
     "ename": "KeyError",
     "evalue": "'marital'",
     "output_type": "error",
     "traceback": [
      "\u001b[0;31m-------------------------------------------------------\u001b[0m",
      "\u001b[0;31mKeyError\u001b[0m              Traceback (most recent call last)",
      "\u001b[0;32m<ipython-input-35-36f81e845d88>\u001b[0m in \u001b[0;36m<module>\u001b[0;34m\u001b[0m\n\u001b[0;32m----> 1\u001b[0;31m \u001b[0mans\u001b[0m \u001b[0;34m=\u001b[0m \u001b[0mextract_features\u001b[0m\u001b[0;34m(\u001b[0m\u001b[0mtrain\u001b[0m\u001b[0;34m)\u001b[0m\u001b[0;34m\u001b[0m\u001b[0;34m\u001b[0m\u001b[0m\n\u001b[0m\u001b[1;32m      2\u001b[0m \u001b[0mprint\u001b[0m\u001b[0;34m(\u001b[0m\u001b[0mans\u001b[0m\u001b[0;34m)\u001b[0m\u001b[0;34m\u001b[0m\u001b[0;34m\u001b[0m\u001b[0m\n",
      "\u001b[0;32m<ipython-input-34-cf4367f537c9>\u001b[0m in \u001b[0;36mextract_features\u001b[0;34m(raw_data)\u001b[0m\n\u001b[1;32m     11\u001b[0m         \u001b[0mf\u001b[0m \u001b[0;34m+=\u001b[0m \u001b[0;34m[\u001b[0m\u001b[0mfloat\u001b[0m\u001b[0;34m(\u001b[0m\u001b[0mrow\u001b[0m\u001b[0;34m[\u001b[0m\u001b[0;34m'age'\u001b[0m\u001b[0;34m]\u001b[0m\u001b[0;34m)\u001b[0m\u001b[0;34m/\u001b[0m\u001b[0;36m100\u001b[0m\u001b[0;34m]\u001b[0m\u001b[0;34m\u001b[0m\u001b[0;34m\u001b[0m\u001b[0m\n\u001b[1;32m     12\u001b[0m         \u001b[0mf\u001b[0m \u001b[0;34m+=\u001b[0m \u001b[0;34m[\u001b[0m\u001b[0mfloat\u001b[0m\u001b[0;34m(\u001b[0m\u001b[0mrow\u001b[0m\u001b[0;34m[\u001b[0m\u001b[0;34m'education.num'\u001b[0m\u001b[0;34m]\u001b[0m\u001b[0;34m)\u001b[0m\u001b[0;34m/\u001b[0m\u001b[0;36m20\u001b[0m\u001b[0;34m]\u001b[0m\u001b[0;34m\u001b[0m\u001b[0;34m\u001b[0m\u001b[0m\n\u001b[0;32m---> 13\u001b[0;31m         \u001b[0mf\u001b[0m \u001b[0;34m+=\u001b[0m \u001b[0;34m[\u001b[0m\u001b[0mrow\u001b[0m\u001b[0;34m[\u001b[0m\u001b[0;34m'marital'\u001b[0m\u001b[0;34m]\u001b[0m \u001b[0;34m==\u001b[0m \u001b[0;34m'Married-civ-spouse'\u001b[0m\u001b[0;34m]\u001b[0m\u001b[0;34m\u001b[0m\u001b[0;34m\u001b[0m\u001b[0m\n\u001b[0m\u001b[1;32m     14\u001b[0m         \u001b[0mf\u001b[0m \u001b[0;34m+=\u001b[0m \u001b[0;34m[\u001b[0m\u001b[0mrow\u001b[0m\u001b[0;34m[\u001b[0m\u001b[0;34m'sex'\u001b[0m\u001b[0;34m]\u001b[0m\u001b[0;34m==\u001b[0m\u001b[0;34m'Male'\u001b[0m\u001b[0;34m]\u001b[0m\u001b[0;34m\u001b[0m\u001b[0;34m\u001b[0m\u001b[0m\n\u001b[1;32m     15\u001b[0m         \u001b[0mf\u001b[0m \u001b[0;34m+=\u001b[0m \u001b[0;34m[\u001b[0m\u001b[0mfloat\u001b[0m\u001b[0;34m(\u001b[0m\u001b[0mrow\u001b[0m\u001b[0;34m[\u001b[0m\u001b[0;34m'hr_per_week'\u001b[0m\u001b[0;34m]\u001b[0m\u001b[0;34m)\u001b[0m\u001b[0;34m/\u001b[0m\u001b[0;36m100\u001b[0m\u001b[0;34m]\u001b[0m\u001b[0;34m\u001b[0m\u001b[0;34m\u001b[0m\u001b[0m\n",
      "\u001b[0;31mKeyError\u001b[0m: 'marital'"
     ]
    }
   ],
   "source": [
    "ans = extract_features(train)\n",
    "print(ans)"
   ]
  },
  {
   "cell_type": "code",
   "execution_count": null,
   "metadata": {},
   "outputs": [],
   "source": []
  }
 ],
 "metadata": {
  "kernelspec": {
   "display_name": "Python 3",
   "language": "python",
   "name": "python3"
  },
  "language_info": {
   "codemirror_mode": {
    "name": "ipython",
    "version": 3
   },
   "file_extension": ".py",
   "mimetype": "text/x-python",
   "name": "python",
   "nbconvert_exporter": "python",
   "pygments_lexer": "ipython3",
   "version": "3.8.1"
  }
 },
 "nbformat": 4,
 "nbformat_minor": 4
}
